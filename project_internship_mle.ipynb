{
 "cells": [
  {
   "cell_type": "markdown",
   "metadata": {
    "id": "fWJwwtLUeGn3"
   },
   "source": [
    "# Context of this project\n",
    "\n",
    "We want to build a movies' recommender in order to get new movies to watch during the lock down. We will base our work on a variation of the MovieLens dataset. \n",
    "The data consists of movies seen by the users, some informations about the movies, and some informations about the users. The problem consists in predicting which movies a given user might like.\n",
    "\n",
    "We are presenting you here first a naive approach in order to familarize yourself with the problem and show you how it might be solved."
   ]
  },
  {
   "cell_type": "markdown",
   "metadata": {},
   "source": [
    "# Libraries & APIs"
   ]
  },
  {
   "cell_type": "code",
   "execution_count": 320,
   "metadata": {},
   "outputs": [],
   "source": [
    "import pandas as pd\n",
    "import numpy as np\n",
    "import matplotlib.pyplot as plt"
   ]
  },
  {
   "cell_type": "code",
   "execution_count": 501,
   "metadata": {},
   "outputs": [
    {
     "data": {
      "text/html": [
       "\n",
       "<style>\n",
       ".output_png {\n",
       "    display: table-cell;\n",
       "    text-align: center;\n",
       "    vertical-align: middle;\n",
       "}\n",
       "</style>\n"
      ],
      "text/plain": [
       "<IPython.core.display.HTML object>"
      ]
     },
     "execution_count": 501,
     "metadata": {},
     "output_type": "execute_result"
    }
   ],
   "source": [
    "# For styling the figures.\n",
    "\n",
    "from IPython.core.display import HTML\n",
    "HTML(\"\"\"\n",
    "<style>\n",
    ".output_png {\n",
    "    display: table-cell;\n",
    "    text-align: center;\n",
    "    vertical-align: middle;\n",
    "}\n",
    "</style>\n",
    "\"\"\")"
   ]
  },
  {
   "cell_type": "markdown",
   "metadata": {
    "id": "C09qoiwchTfd"
   },
   "source": [
    "# Importing the Data\n",
    "\n",
    "First, let's load some data."
   ]
  },
  {
   "cell_type": "code",
   "execution_count": 66,
   "metadata": {},
   "outputs": [],
   "source": [
    "def getDataset(path):\n",
    "    \n",
    "    data = pd.read_csv(path)\n",
    "    print(\"Dataset Shape : \",data.shape)        \n",
    "    return data"
   ]
  },
  {
   "cell_type": "code",
   "execution_count": 67,
   "metadata": {},
   "outputs": [
    {
     "name": "stdout",
     "output_type": "stream",
     "text": [
      "Dataset Shape :  (6040, 5)\n"
     ]
    }
   ],
   "source": [
    "path_users = \"data/users.csv\"\n",
    "users = getDataset(path_users)"
   ]
  },
  {
   "cell_type": "code",
   "execution_count": 68,
   "metadata": {
    "id": "1oGlGDVWfLD5"
   },
   "outputs": [
    {
     "name": "stdout",
     "output_type": "stream",
     "text": [
      "Dataset Shape :  (3883, 21)\n"
     ]
    }
   ],
   "source": [
    "path_movies = \"data/movies.csv\"\n",
    "movies = getDataset(path_movies)"
   ]
  },
  {
   "cell_type": "code",
   "execution_count": 69,
   "metadata": {
    "id": "f06rRH9OetFc"
   },
   "outputs": [
    {
     "name": "stdout",
     "output_type": "stream",
     "text": [
      "Dataset Shape :  (1000209, 3)\n"
     ]
    }
   ],
   "source": [
    "path_ratings = \"data/ratings.csv\"\n",
    "ratings = getDataset(path_ratings)"
   ]
  },
  {
   "cell_type": "markdown",
   "metadata": {
    "id": "YZVOENCtl83E"
   },
   "source": [
    "# Content-based Filtering\n",
    "\n",
    "Content-based filtering uses item features to recommend other items similar to what the user likes, based on their previous actions or explicit feedback. We dont use other users information !\n",
    "\n",
    "For example, if user `A` liked `Harry Potter 1`, he/she will like `Harry Potter 2`"
   ]
  },
  {
   "cell_type": "code",
   "execution_count": 502,
   "metadata": {
    "colab": {
     "base_uri": "https://localhost:8080/",
     "height": 322
    },
    "id": "FZ4yhO-4Zx15",
    "jupyter": {
     "source_hidden": true
    },
    "outputId": "5739f88e-b73d-497d-928d-3608df9cd724"
   },
   "outputs": [
    {
     "data": {
      "text/html": [
       "<img src='https://miro.medium.com/max/1642/1*BME1JjIlBEAI9BV5pOO5Mg.png' height=\"300\" width=\"250\"/>\n"
      ],
      "text/plain": [
       "<IPython.core.display.HTML object>"
      ]
     },
     "metadata": {},
     "output_type": "display_data"
    }
   ],
   "source": [
    "%%html\n",
    "<img src='https://miro.medium.com/max/1642/1*BME1JjIlBEAI9BV5pOO5Mg.png' height=\"300\" width=\"250\"/>"
   ]
  },
  {
   "cell_type": "markdown",
   "metadata": {
    "id": "PfVv_CVWagIo"
   },
   "source": [
    "What are similar movies ? In order to answer to this question we need to build a similiarity measure. \n",
    "\n",
    "## Features\n",
    "\n",
    "This measure will operate on the characteristics (**features**) of the movies to determine which are close. In our case, we have access to the genres of the movies. For example, the genres of `Toy Story` are: `Animation`, `Children's` and `Comedy`. This is represented as follow in our dataset:"
   ]
  },
  {
   "cell_type": "code",
   "execution_count": 71,
   "metadata": {
    "id": "1noUwSktbEUJ"
   },
   "outputs": [
    {
     "data": {
      "text/html": [
       "<div>\n",
       "<style scoped>\n",
       "    .dataframe tbody tr th:only-of-type {\n",
       "        vertical-align: middle;\n",
       "    }\n",
       "\n",
       "    .dataframe tbody tr th {\n",
       "        vertical-align: top;\n",
       "    }\n",
       "\n",
       "    .dataframe thead th {\n",
       "        text-align: right;\n",
       "    }\n",
       "</style>\n",
       "<table border=\"1\" class=\"dataframe\">\n",
       "  <thead>\n",
       "    <tr style=\"text-align: right;\">\n",
       "      <th></th>\n",
       "      <th>title</th>\n",
       "      <th>Animation</th>\n",
       "      <th>Children's</th>\n",
       "      <th>Comedy</th>\n",
       "      <th>Adventure</th>\n",
       "      <th>Fantasy</th>\n",
       "      <th>Romance</th>\n",
       "      <th>Drama</th>\n",
       "      <th>Action</th>\n",
       "      <th>Crime</th>\n",
       "      <th>Thriller</th>\n",
       "      <th>Horror</th>\n",
       "      <th>Sci-Fi</th>\n",
       "      <th>Documentary</th>\n",
       "      <th>War</th>\n",
       "      <th>Musical</th>\n",
       "      <th>Mystery</th>\n",
       "      <th>Film-Noir</th>\n",
       "      <th>Western</th>\n",
       "    </tr>\n",
       "  </thead>\n",
       "  <tbody>\n",
       "    <tr>\n",
       "      <th>0</th>\n",
       "      <td>Toy Story</td>\n",
       "      <td>1.0</td>\n",
       "      <td>1.0</td>\n",
       "      <td>1.0</td>\n",
       "      <td>0.0</td>\n",
       "      <td>0.0</td>\n",
       "      <td>0.0</td>\n",
       "      <td>0.0</td>\n",
       "      <td>0.0</td>\n",
       "      <td>0.0</td>\n",
       "      <td>0.0</td>\n",
       "      <td>0.0</td>\n",
       "      <td>0.0</td>\n",
       "      <td>0.0</td>\n",
       "      <td>0.0</td>\n",
       "      <td>0.0</td>\n",
       "      <td>0.0</td>\n",
       "      <td>0.0</td>\n",
       "      <td>0.0</td>\n",
       "    </tr>\n",
       "    <tr>\n",
       "      <th>1</th>\n",
       "      <td>Jumanji</td>\n",
       "      <td>0.0</td>\n",
       "      <td>1.0</td>\n",
       "      <td>0.0</td>\n",
       "      <td>1.0</td>\n",
       "      <td>1.0</td>\n",
       "      <td>0.0</td>\n",
       "      <td>0.0</td>\n",
       "      <td>0.0</td>\n",
       "      <td>0.0</td>\n",
       "      <td>0.0</td>\n",
       "      <td>0.0</td>\n",
       "      <td>0.0</td>\n",
       "      <td>0.0</td>\n",
       "      <td>0.0</td>\n",
       "      <td>0.0</td>\n",
       "      <td>0.0</td>\n",
       "      <td>0.0</td>\n",
       "      <td>0.0</td>\n",
       "    </tr>\n",
       "    <tr>\n",
       "      <th>2</th>\n",
       "      <td>Grumpier Old Men</td>\n",
       "      <td>0.0</td>\n",
       "      <td>0.0</td>\n",
       "      <td>1.0</td>\n",
       "      <td>0.0</td>\n",
       "      <td>0.0</td>\n",
       "      <td>1.0</td>\n",
       "      <td>0.0</td>\n",
       "      <td>0.0</td>\n",
       "      <td>0.0</td>\n",
       "      <td>0.0</td>\n",
       "      <td>0.0</td>\n",
       "      <td>0.0</td>\n",
       "      <td>0.0</td>\n",
       "      <td>0.0</td>\n",
       "      <td>0.0</td>\n",
       "      <td>0.0</td>\n",
       "      <td>0.0</td>\n",
       "      <td>0.0</td>\n",
       "    </tr>\n",
       "    <tr>\n",
       "      <th>3</th>\n",
       "      <td>Waiting to Exhale</td>\n",
       "      <td>0.0</td>\n",
       "      <td>0.0</td>\n",
       "      <td>1.0</td>\n",
       "      <td>0.0</td>\n",
       "      <td>0.0</td>\n",
       "      <td>0.0</td>\n",
       "      <td>1.0</td>\n",
       "      <td>0.0</td>\n",
       "      <td>0.0</td>\n",
       "      <td>0.0</td>\n",
       "      <td>0.0</td>\n",
       "      <td>0.0</td>\n",
       "      <td>0.0</td>\n",
       "      <td>0.0</td>\n",
       "      <td>0.0</td>\n",
       "      <td>0.0</td>\n",
       "      <td>0.0</td>\n",
       "      <td>0.0</td>\n",
       "    </tr>\n",
       "    <tr>\n",
       "      <th>4</th>\n",
       "      <td>Father of the Bride Part II</td>\n",
       "      <td>0.0</td>\n",
       "      <td>0.0</td>\n",
       "      <td>1.0</td>\n",
       "      <td>0.0</td>\n",
       "      <td>0.0</td>\n",
       "      <td>0.0</td>\n",
       "      <td>0.0</td>\n",
       "      <td>0.0</td>\n",
       "      <td>0.0</td>\n",
       "      <td>0.0</td>\n",
       "      <td>0.0</td>\n",
       "      <td>0.0</td>\n",
       "      <td>0.0</td>\n",
       "      <td>0.0</td>\n",
       "      <td>0.0</td>\n",
       "      <td>0.0</td>\n",
       "      <td>0.0</td>\n",
       "      <td>0.0</td>\n",
       "    </tr>\n",
       "  </tbody>\n",
       "</table>\n",
       "</div>"
      ],
      "text/plain": [
       "                         title  Animation  Children's  Comedy  Adventure  \\\n",
       "0                    Toy Story        1.0         1.0     1.0        0.0   \n",
       "1                      Jumanji        0.0         1.0     0.0        1.0   \n",
       "2             Grumpier Old Men        0.0         0.0     1.0        0.0   \n",
       "3            Waiting to Exhale        0.0         0.0     1.0        0.0   \n",
       "4  Father of the Bride Part II        0.0         0.0     1.0        0.0   \n",
       "\n",
       "   Fantasy  Romance  Drama  Action  Crime  Thriller  Horror  Sci-Fi  \\\n",
       "0      0.0      0.0    0.0     0.0    0.0       0.0     0.0     0.0   \n",
       "1      1.0      0.0    0.0     0.0    0.0       0.0     0.0     0.0   \n",
       "2      0.0      1.0    0.0     0.0    0.0       0.0     0.0     0.0   \n",
       "3      0.0      0.0    1.0     0.0    0.0       0.0     0.0     0.0   \n",
       "4      0.0      0.0    0.0     0.0    0.0       0.0     0.0     0.0   \n",
       "\n",
       "   Documentary  War  Musical  Mystery  Film-Noir  Western  \n",
       "0          0.0  0.0      0.0      0.0        0.0      0.0  \n",
       "1          0.0  0.0      0.0      0.0        0.0      0.0  \n",
       "2          0.0  0.0      0.0      0.0        0.0      0.0  \n",
       "3          0.0  0.0      0.0      0.0        0.0      0.0  \n",
       "4          0.0  0.0      0.0      0.0        0.0      0.0  "
      ]
     },
     "execution_count": 71,
     "metadata": {},
     "output_type": "execute_result"
    }
   ],
   "source": [
    "genre_cols = [\"Animation\", \"Children's\", \n",
    "       'Comedy', 'Adventure', 'Fantasy', 'Romance', 'Drama',\n",
    "       'Action', 'Crime', 'Thriller', 'Horror', 'Sci-Fi', 'Documentary', 'War',\n",
    "       'Musical', 'Mystery', 'Film-Noir', 'Western']\n",
    "\n",
    "genre_and_title_cols = ['title'] + genre_cols \n",
    "\n",
    "movies[genre_and_title_cols].head()"
   ]
  },
  {
   "cell_type": "markdown",
   "metadata": {
    "id": "f-jorqHSb8LA"
   },
   "source": [
    "## Similarity\n",
    "\n",
    "Now that we have some features, we will try to find a function that performs a similiarity measure. The Similarity function will take two items (two list of features) and return a number proportional to their similarity. \n",
    "\n",
    "For the following we will consider that the Similarity between two movies is the number of genres they have in common.\n",
    "\n",
    "Here is an example with `Toy Story` and `E.T`"
   ]
  },
  {
   "cell_type": "code",
   "execution_count": 72,
   "metadata": {},
   "outputs": [],
   "source": [
    "def getMovieGenres(movieTitle, possibleGenres,columnsToselect, data):\n",
    "    \n",
    "    \"\"\" This function returns the genders of a given movie (title).\"\"\"\n",
    "    \n",
    "    movie_genres = data[columnsToselect].loc[data[\"title\"] == movieTitle][possibleGenres].iloc[0]    \n",
    "    return movie_genres\n",
    "\n",
    "\n",
    "####################################################\n",
    "\n",
    "\n",
    "def computeSimilarity(movie_1_genres, movie_2_genres):\n",
    "    \n",
    "    \"\"\" Since we compute a naive similarity, we do a basic scalar product between the two genres vectors.\"\"\"\n",
    "    \n",
    "    np_movie_1 = movie_1_genres.to_numpy()\n",
    "    np_movie_2 = movie_2_genres.to_numpy()\n",
    "\n",
    "    similarity = (np_movie_1 * np_movie_2).sum()\n",
    "    \n",
    "    print(\"The similarity between those two movies is : \",similarity)\n",
    "    \n",
    "    return similarity"
   ]
  },
  {
   "cell_type": "code",
   "execution_count": 73,
   "metadata": {},
   "outputs": [],
   "source": [
    "movieTitle = \"Toy Story\"\n",
    "toy_story_genres = getMovieGenres(movieTitle, genre_cols, genre_and_title_cols, movies)"
   ]
  },
  {
   "cell_type": "code",
   "execution_count": 74,
   "metadata": {
    "colab": {
     "base_uri": "https://localhost:8080/"
    },
    "id": "o6ieFMXGb7Rx",
    "outputId": "a30a5499-c875-4ef5-b4f1-9a633064a7a4"
   },
   "outputs": [],
   "source": [
    "movieTitle = \"E.T. the Extra-Terrestrial\"\n",
    "et_genres = getMovieGenres(movieTitle, genre_cols, genre_and_title_cols, movies)"
   ]
  },
  {
   "cell_type": "code",
   "execution_count": 75,
   "metadata": {},
   "outputs": [
    {
     "name": "stdout",
     "output_type": "stream",
     "text": [
      "The similarity between those two movies is :  1.0\n"
     ]
    }
   ],
   "source": [
    "similarity_1 = computeSimilarity(et_genres, toy_story_genres)"
   ]
  },
  {
   "cell_type": "markdown",
   "metadata": {},
   "source": [
    "So our similarity measure returns `1.0` for these two movies. \n",
    "\n",
    "Let's see another example where we compare `Toy Stories` and `Pocahontas`"
   ]
  },
  {
   "cell_type": "code",
   "execution_count": 76,
   "metadata": {},
   "outputs": [],
   "source": [
    "movieTitle = \"Pocahontas\"\n",
    "pocahontas_genres = getMovieGenres(movieTitle, genre_cols, genre_and_title_cols, movies)"
   ]
  },
  {
   "cell_type": "code",
   "execution_count": 77,
   "metadata": {},
   "outputs": [
    {
     "name": "stdout",
     "output_type": "stream",
     "text": [
      "The similarity between those two movies is :  2.0\n"
     ]
    }
   ],
   "source": [
    "similarity_2 = computeSimilarity(pocahontas_genres, toy_story_genres)"
   ]
  },
  {
   "cell_type": "markdown",
   "metadata": {},
   "source": [
    "This tels us that `Pocahontas` is closer to `Toy Stories` than `E.T.` which makes sense.\n"
   ]
  },
  {
   "cell_type": "markdown",
   "metadata": {
    "id": "X8ofE1Saoy0E"
   },
   "source": [
    "## Scaling up\n",
    "\n",
    "Ok, that's a nice measure. Now we are going to scale it up to all movies of our dataset. To do so smartly, let's take a look at the operation we just did, but from a mathematical point of view. To do so, we will think of the list of features of a movie as a vector `V`. Then, our similarity measure between `Toy Story` and `E.T.` becomes:\n",
    "$ V_{ToyStory} \\cdot V_{ET}^{T}$\n",
    "\n",
    "More generally the similarity measure between a movie `i` and another movie `j` is : $ V_{i} \\cdot V_{j}^{T}$\n",
    "\n",
    "Now we can think of `movies` as a matrix containing all features vectors describing the movies. Here is how our similiarity measure looks in this context:"
   ]
  },
  {
   "cell_type": "markdown",
   "metadata": {
    "id": "IhMxm6S1SrPb"
   },
   "source": [
    "![](imgs/dot_product_matrices.png)"
   ]
  },
  {
   "cell_type": "markdown",
   "metadata": {},
   "source": [
    "To obtain the similiarity between all movies of our dataset we have to perform the dot product of the `movies` matrix with the transposed of the `movies` matrix."
   ]
  },
  {
   "cell_type": "code",
   "execution_count": 78,
   "metadata": {},
   "outputs": [],
   "source": [
    "def computeAllSimilarities(data, genre_cols):\n",
    "    \n",
    "    \"\"\" Updated version to compute the naive similarity, we do a basic scalar product between data and its transpose.\"\"\"\n",
    "    \n",
    "    data_np = data[genre_cols].to_numpy()\n",
    "    \n",
    "    return np.dot(data_np, data_np.T)\n",
    "\n",
    "\n",
    "####################################################\n",
    "\n",
    "\n",
    "def printSimilarityOneMovie(data, similaritiesVector, movieTitle, N):\n",
    "    \n",
    "    \"\"\" This function prints the similarities for a given vector of similarity.\"\"\"\n",
    "\n",
    "    for i in range(N):\n",
    "        \n",
    "        print(\"Similarity between \", movieTitle, \" and \", data.iloc[i]['title'], \" (index \",i, \") is \", similaritiesVector[i])"
   ]
  },
  {
   "cell_type": "code",
   "execution_count": 79,
   "metadata": {},
   "outputs": [
    {
     "data": {
      "text/plain": [
       "(3883, 3883)"
      ]
     },
     "execution_count": 79,
     "metadata": {},
     "output_type": "execute_result"
    }
   ],
   "source": [
    "similarity = computeAllSimilarities(movies, genre_cols)\n",
    "similarity.shape"
   ]
  },
  {
   "cell_type": "code",
   "execution_count": 442,
   "metadata": {},
   "outputs": [
    {
     "data": {
      "text/plain": [
       "array([[3., 1., 1., ..., 0., 0., 0.],\n",
       "       [1., 3., 0., ..., 0., 0., 0.],\n",
       "       [1., 0., 2., ..., 0., 0., 0.],\n",
       "       ...,\n",
       "       [0., 0., 0., ..., 1., 1., 1.],\n",
       "       [0., 0., 0., ..., 1., 1., 1.],\n",
       "       [0., 0., 0., ..., 1., 1., 2.]])"
      ]
     },
     "execution_count": 442,
     "metadata": {},
     "output_type": "execute_result"
    }
   ],
   "source": [
    "similarity"
   ]
  },
  {
   "cell_type": "markdown",
   "metadata": {},
   "source": [
    "We can now get the similarity between `Toy Story` and any other movie of our dataset"
   ]
  },
  {
   "cell_type": "code",
   "execution_count": 80,
   "metadata": {
    "colab": {
     "base_uri": "https://localhost:8080/"
    },
    "id": "7NQwxobBlJ1N",
    "outputId": "81bd2069-9b05-449e-986c-2608eb04d90b"
   },
   "outputs": [
    {
     "data": {
      "text/plain": [
       "array([3., 1., 1., ..., 0., 0., 0.])"
      ]
     },
     "execution_count": 80,
     "metadata": {},
     "output_type": "execute_result"
    }
   ],
   "source": [
    "similarity_with_toy_story = similarity[0] # index 0 is Toy Story\n",
    "similarity_with_toy_story"
   ]
  },
  {
   "cell_type": "code",
   "execution_count": 96,
   "metadata": {},
   "outputs": [
    {
     "name": "stdout",
     "output_type": "stream",
     "text": [
      "Similarity between  Toy story  and  Toy Story  (index  0 ) is  3.0\n",
      "Similarity between  Toy story  and  Jumanji  (index  1 ) is  1.0\n",
      "Similarity between  Toy story  and  Grumpier Old Men  (index  2 ) is  1.0\n",
      "Similarity between  Toy story  and  Waiting to Exhale  (index  3 ) is  1.0\n",
      "Similarity between  Toy story  and  Father of the Bride Part II  (index  4 ) is  1.0\n",
      "Similarity between  Toy story  and  Heat  (index  5 ) is  0.0\n",
      "Similarity between  Toy story  and  Sabrina  (index  6 ) is  1.0\n",
      "Similarity between  Toy story  and  Tom and Huck  (index  7 ) is  1.0\n",
      "Similarity between  Toy story  and  Sudden Death  (index  8 ) is  0.0\n",
      "Similarity between  Toy story  and  GoldenEye  (index  9 ) is  0.0\n"
     ]
    }
   ],
   "source": [
    "printSimilarityOneMovie(movies, similarity_with_toy_story, \"Toy story\", 10)"
   ]
  },
  {
   "cell_type": "markdown",
   "metadata": {},
   "source": [
    "## A bit of polishing"
   ]
  },
  {
   "cell_type": "markdown",
   "metadata": {
    "id": "eGaBP8Y2pCBF"
   },
   "source": [
    "### Helpers\n",
    "\n",
    "We also built some helpers to handle the movies dataset:"
   ]
  },
  {
   "cell_type": "code",
   "execution_count": 97,
   "metadata": {},
   "outputs": [],
   "source": [
    "from content_based_filtering.helpers.movies import get_movie_id, get_movie_name, get_movie_year"
   ]
  },
  {
   "cell_type": "markdown",
   "metadata": {
    "id": "osEKhTEz2-IR"
   },
   "source": [
    "### Finding similar movies:\n",
    "Here is a method giving us the movie the most similar to another movie:"
   ]
  },
  {
   "cell_type": "code",
   "execution_count": 169,
   "metadata": {
    "id": "KvKxJsLi2858"
   },
   "outputs": [],
   "source": [
    "def get_most_similar(similarity, movie_name, year=None, top=10):\n",
    "    \n",
    "    index_movie = get_movie_id(movies, movie_name, year)\n",
    "    best = similarity[index_movie].argsort()[::-1]\n",
    "    \n",
    "    return [(ind, get_movie_name(movies, ind), similarity[index_movie, ind]) for ind in best[:top] if ind != index_movie]"
   ]
  },
  {
   "cell_type": "code",
   "execution_count": 144,
   "metadata": {
    "colab": {
     "base_uri": "https://localhost:8080/"
    },
    "id": "McgT_CoxgM8d",
    "outputId": "755202de-fec9-476a-8725-0f04b1869c64"
   },
   "outputs": [
    {
     "data": {
      "text/plain": [
       "[(667, 'Space Jam', 3.0),\n",
       " (3685, 'Adventures of Rocky and Bullwinkle, The', 3.0),\n",
       " (3682, 'Chicken Run', 3.0),\n",
       " (2009, 'Jungle Book, The', 3.0),\n",
       " (2011, 'Lady and the Tramp', 3.0),\n",
       " (2012, 'Little Mermaid, The', 3.0),\n",
       " (2033, 'Steamboat Willie', 3.0),\n",
       " (2072, 'American Tail, An', 3.0),\n",
       " (2073, 'American Tail: Fievel Goes West, An', 3.0)]"
      ]
     },
     "execution_count": 144,
     "metadata": {},
     "output_type": "execute_result"
    }
   ],
   "source": [
    "get_most_similar(similarity, movies, 'Toy Story')"
   ]
  },
  {
   "cell_type": "code",
   "execution_count": 146,
   "metadata": {},
   "outputs": [
    {
     "data": {
      "text/plain": [
       "[(3593, \"Puppet Master III: Toulon's Revenge\", 2.0),\n",
       " (2923, 'Rawhead Rex', 2.0),\n",
       " (1312, 'Believers, The', 2.0),\n",
       " (3407, \"Jacob's Ladder\", 2.0),\n",
       " (1957, 'Disturbing Behavior', 2.0),\n",
       " (1927, 'Poltergeist III', 2.0),\n",
       " (1926, 'Poltergeist II: The Other Side', 2.0),\n",
       " (1925, 'Poltergeist', 2.0),\n",
       " (732, 'Thinner', 2.0),\n",
       " (69, 'From Dusk Till Dawn', 2.0),\n",
       " (1300, 'Alien�', 2.0),\n",
       " (2246, 'Bride of Chucky', 2.0),\n",
       " (2269, 'I Still Know What You Did Last Summer', 2.0),\n",
       " (2644, 'Lake Placid', 2.0),\n",
       " (3639, 'Firestarter', 2.0)]"
      ]
     },
     "execution_count": 146,
     "metadata": {},
     "output_type": "execute_result"
    }
   ],
   "source": [
    "get_most_similar(similarity, movies, 'Psycho', 1960, 15) "
   ]
  },
  {
   "cell_type": "markdown",
   "metadata": {},
   "source": [
    "### Giving a recommendation:\n",
    "\n",
    "And finally, let's find some movies to recommend based on previously liked movies:"
   ]
  },
  {
   "cell_type": "code",
   "execution_count": 194,
   "metadata": {},
   "outputs": [],
   "source": [
    "def get_recommendations(user_id, ratings, movies):\n",
    "    \n",
    "    #top_movies = ratings[ratings['user_id'] == user_id].sort_values(by='rating', ascending=False).head(3)['movie_id']\n",
    "    \n",
    "    top_movies = ratings[ratings['user_id'] == user_id].sort_values(by='rating', ascending=False)['movie_id']\n",
    "    \n",
    "    index=['movie_id', 'title', 'similarity']\n",
    "\n",
    "    most_similars = []\n",
    "    \n",
    "    for top_movie in top_movies:\n",
    "        most_similars += get_most_similar(similarity, get_movie_name(movies, top_movie), get_movie_year(movies, top_movie))\n",
    "\n",
    "    return pd.DataFrame(most_similars, columns=index).drop_duplicates().sort_values(by='similarity', ascending=False).head(5)"
   ]
  },
  {
   "cell_type": "code",
   "execution_count": 195,
   "metadata": {},
   "outputs": [
    {
     "data": {
      "text/html": [
       "<div>\n",
       "<style scoped>\n",
       "    .dataframe tbody tr th:only-of-type {\n",
       "        vertical-align: middle;\n",
       "    }\n",
       "\n",
       "    .dataframe tbody tr th {\n",
       "        vertical-align: top;\n",
       "    }\n",
       "\n",
       "    .dataframe thead th {\n",
       "        text-align: right;\n",
       "    }\n",
       "</style>\n",
       "<table border=\"1\" class=\"dataframe\">\n",
       "  <thead>\n",
       "    <tr style=\"text-align: right;\">\n",
       "      <th></th>\n",
       "      <th>movie_id</th>\n",
       "      <th>title</th>\n",
       "      <th>similarity</th>\n",
       "    </tr>\n",
       "  </thead>\n",
       "  <tbody>\n",
       "    <tr>\n",
       "      <th>193</th>\n",
       "      <td>2009</td>\n",
       "      <td>Jungle Book, The</td>\n",
       "      <td>4.0</td>\n",
       "    </tr>\n",
       "    <tr>\n",
       "      <th>197</th>\n",
       "      <td>2033</td>\n",
       "      <td>Steamboat Willie</td>\n",
       "      <td>4.0</td>\n",
       "    </tr>\n",
       "    <tr>\n",
       "      <th>295</th>\n",
       "      <td>667</td>\n",
       "      <td>Space Jam</td>\n",
       "      <td>4.0</td>\n",
       "    </tr>\n",
       "    <tr>\n",
       "      <th>486</th>\n",
       "      <td>2337</td>\n",
       "      <td>Romancing the Stone</td>\n",
       "      <td>4.0</td>\n",
       "    </tr>\n",
       "    <tr>\n",
       "      <th>294</th>\n",
       "      <td>105</td>\n",
       "      <td>Muppet Treasure Island</td>\n",
       "      <td>4.0</td>\n",
       "    </tr>\n",
       "  </tbody>\n",
       "</table>\n",
       "</div>"
      ],
      "text/plain": [
       "     movie_id                   title  similarity\n",
       "193      2009        Jungle Book, The         4.0\n",
       "197      2033        Steamboat Willie         4.0\n",
       "295       667               Space Jam         4.0\n",
       "486      2337     Romancing the Stone         4.0\n",
       "294       105  Muppet Treasure Island         4.0"
      ]
     },
     "execution_count": 195,
     "metadata": {},
     "output_type": "execute_result"
    }
   ],
   "source": [
    "get_recommendations(0, ratings, movies)"
   ]
  },
  {
   "cell_type": "code",
   "execution_count": 377,
   "metadata": {},
   "outputs": [
    {
     "data": {
      "text/html": [
       "<div>\n",
       "<style scoped>\n",
       "    .dataframe tbody tr th:only-of-type {\n",
       "        vertical-align: middle;\n",
       "    }\n",
       "\n",
       "    .dataframe tbody tr th {\n",
       "        vertical-align: top;\n",
       "    }\n",
       "\n",
       "    .dataframe thead th {\n",
       "        text-align: right;\n",
       "    }\n",
       "</style>\n",
       "<table border=\"1\" class=\"dataframe\">\n",
       "  <thead>\n",
       "    <tr style=\"text-align: right;\">\n",
       "      <th></th>\n",
       "      <th>movie_id</th>\n",
       "      <th>title</th>\n",
       "      <th>similarity</th>\n",
       "    </tr>\n",
       "  </thead>\n",
       "  <tbody>\n",
       "    <tr>\n",
       "      <th>713</th>\n",
       "      <td>2011</td>\n",
       "      <td>Lady and the Tramp</td>\n",
       "      <td>5.0</td>\n",
       "    </tr>\n",
       "    <tr>\n",
       "      <th>472</th>\n",
       "      <td>2012</td>\n",
       "      <td>Little Mermaid, The</td>\n",
       "      <td>5.0</td>\n",
       "    </tr>\n",
       "    <tr>\n",
       "      <th>266</th>\n",
       "      <td>1933</td>\n",
       "      <td>Lethal Weapon 3</td>\n",
       "      <td>4.0</td>\n",
       "    </tr>\n",
       "    <tr>\n",
       "      <th>398</th>\n",
       "      <td>1113</td>\n",
       "      <td>Escape from New York</td>\n",
       "      <td>4.0</td>\n",
       "    </tr>\n",
       "    <tr>\n",
       "      <th>519</th>\n",
       "      <td>2336</td>\n",
       "      <td>Jewel of the Nile, The</td>\n",
       "      <td>4.0</td>\n",
       "    </tr>\n",
       "  </tbody>\n",
       "</table>\n",
       "</div>"
      ],
      "text/plain": [
       "     movie_id                   title  similarity\n",
       "713      2011      Lady and the Tramp         5.0\n",
       "472      2012     Little Mermaid, The         5.0\n",
       "266      1933         Lethal Weapon 3         4.0\n",
       "398      1113    Escape from New York         4.0\n",
       "519      2336  Jewel of the Nile, The         4.0"
      ]
     },
     "execution_count": 377,
     "metadata": {},
     "output_type": "execute_result"
    }
   ],
   "source": [
    "get_recommendations(999, ratings, movies)"
   ]
  },
  {
   "cell_type": "markdown",
   "metadata": {},
   "source": [
    "# Performances evaluation"
   ]
  },
  {
   "cell_type": "markdown",
   "metadata": {},
   "source": [
    "To penalize our recommandation model , the way we compute the **mean error of recommandation**, we compute the difference between the computed similarity and the rating the user gave to this movie.\n",
    "\n",
    "$$recommandation_{error} = \\frac{1}{N} \\left | rating - similarity \\right |$$\n",
    "\n",
    "**Remark** : Please keep in mind that we Compute the mean error for the movies the user already rated, since we are in an unsupervised framework."
   ]
  },
  {
   "cell_type": "code",
   "execution_count": 295,
   "metadata": {},
   "outputs": [],
   "source": [
    "def computeAbsErr(recommendedMovies, recommendations, user_rating) : \n",
    "\n",
    "    error = 0\n",
    "    cpt = 0\n",
    "    \n",
    "    for v in recommendedMovies :\n",
    "\n",
    "        bool = True\n",
    "\n",
    "        # Recommendations dataset\n",
    "        s = recommendations[ recommendations['movie_id'].values == v ][\"similarity\"]\n",
    "        \n",
    "        # If we have a label for this movie_id in the recommendations set\n",
    "        if(len(s)>0) :\n",
    "            s = recommendations[ recommendations['movie_id'].values == v ].iloc[0][\"similarity\"]\n",
    "        \n",
    "        \n",
    "            # Rating dataset\n",
    "            r = user_rating[ user_rating['movie_id'].values == v ][\"rating\"]\n",
    "            \n",
    "            # If we have a label for this movie_id in the rating dataset\n",
    "            if(len(r)>0) :\n",
    "                r = user_rating[ user_rating['movie_id'].values == v ].iloc[0][\"rating\"]\n",
    "            else : \n",
    "                bool = False\n",
    "\n",
    "        else : \n",
    "                bool = False\n",
    "\n",
    "        # If both values are present (means the users already rated this movie and we computed the similarity)\n",
    "        if(bool):\n",
    "            cpt = cpt + 1\n",
    "            error = error + np.abs(s-r)\n",
    "    \n",
    "    if cpt :\n",
    "        mean_err = error/cpt\n",
    "    else :\n",
    "        mean_err = error\n",
    "\n",
    "    return mean_err\n",
    "\n",
    "##################################################\n",
    "\n",
    "def computeErrors(ratings, movies, user_id, withPrint=1) :\n",
    "    \n",
    "    \"\"\"This function computes the error defined above for one user.\n",
    "        @param withPrint : boolean to print or not. Used to print when we compute for only one user if needed.\n",
    "    \"\"\"\n",
    "\n",
    "    # Compute recommendations\n",
    "    recommendations = get_recommendations(user_id, ratings, movies)\n",
    "    recommendations = recommendations.drop(['title'], axis=1)\n",
    "    \n",
    "    # The movies we recommended\n",
    "    recommendedMovies = recommendations['movie_id'].values\n",
    "    \n",
    "    # The rating our given user gave to all movies\n",
    "    user_rating = ratings[ ratings['user_id'].values == user_id ]\n",
    "    \n",
    "    # Compute the mean error for the movies the user already rated\n",
    "    mean_err = computeAbsErr(recommendedMovies, recommendations, user_rating)\n",
    "    \n",
    "    if(withPrint) :\n",
    "        print(\"The mean error in recommandation for user \",user_id,\" is : \", mean_err)\n",
    "        \n",
    "    return mean_err"
   ]
  },
  {
   "cell_type": "code",
   "execution_count": 296,
   "metadata": {},
   "outputs": [
    {
     "name": "stdout",
     "output_type": "stream",
     "text": [
      "The mean error in recommandation for user  999  is :  1.5\n"
     ]
    }
   ],
   "source": [
    "mean_err = computeErrors(ratings, movies, 999)"
   ]
  },
  {
   "cell_type": "code",
   "execution_count": 307,
   "metadata": {},
   "outputs": [],
   "source": [
    "from tqdm import tqdm"
   ]
  },
  {
   "cell_type": "code",
   "execution_count": 498,
   "metadata": {},
   "outputs": [],
   "source": [
    "def computeAllRecommendationsErr(ratings, movies, users):\n",
    "    \n",
    "    users_id = users['user_id'].drop_duplicates().values\n",
    "    N = len(users_id)\n",
    "    users_err = []\n",
    "\n",
    "    err = 0   \n",
    "    \n",
    "    for i in tqdm(range(N)) :\n",
    "        user_id = users_id[i]\n",
    "        user_error = computeErrors(ratings, movies, user_id, False)\n",
    "        err = err + user_error\n",
    "        users_err.append(user_error)\n",
    "        \n",
    "    mean_err = err/N\n",
    "    \n",
    "    print(\"The mean error in recommandation for all user is \", mean_err)\n",
    "    \n",
    "    return mean_err, users_err"
   ]
  },
  {
   "cell_type": "code",
   "execution_count": 519,
   "metadata": {},
   "outputs": [
    {
     "name": "stderr",
     "output_type": "stream",
     "text": [
      "100%|████████████████████████████████████████████████████████████████████████████| 6040/6040 [1:00:27<00:00,  1.67it/s]"
     ]
    },
    {
     "name": "stdout",
     "output_type": "stream",
     "text": [
      "The mean error in recommandation for all user is  0.48317052980132436\n"
     ]
    },
    {
     "name": "stderr",
     "output_type": "stream",
     "text": [
      "\n"
     ]
    }
   ],
   "source": [
    "mean_err, users_err = computeAllRecommendationsErr(ratings, movies, users)"
   ]
  },
  {
   "cell_type": "code",
   "execution_count": 520,
   "metadata": {},
   "outputs": [
    {
     "data": {
      "image/png": "[encoded data removed]",
      "text/plain": [
       "<Figure size 432x288 with 1 Axes>"
      ]
     },
     "metadata": {
      "needs_background": "light"
     },
     "output_type": "display_data"
    }
   ],
   "source": [
    "plt.plot(users_err)\n",
    "plt.xlabel(\"User id\")\n",
    "plt.ylabel(\"Mean error in recommandation\")\n",
    "plt.title(\"Mean error in recommandation for each user\")\n",
    "plt.show()"
   ]
  },
  {
   "cell_type": "code",
   "execution_count": 537,
   "metadata": {},
   "outputs": [
    {
     "name": "stdout",
     "output_type": "stream",
     "text": [
      "The total prediction with more than 2 in the defined error are :  330\n",
      "The percentage of prediction with more than 2 in the defined error are :  5.4635761589403975 %\n"
     ]
    }
   ],
   "source": [
    "users_err_np = np.array(users_err)\n",
    "err_greater_than_2 = np.array([users_err_np >= 2]).sum()\n",
    "print(\"The total prediction with more than 2 in the defined error are : \",err_greater_than_2)\n",
    "print(\"The percentage of prediction with more than 2 in the defined error are : \",(err_greater_than_2/len(users_err_np))*100, \"%\")"
   ]
  },
  {
   "cell_type": "markdown",
   "metadata": {},
   "source": [
    "### Comments :\n",
    "\n",
    "We can see that even with a naive model we can still achieve good results, only **5.5% of the prediction have an error greater or equal to 2**.\n",
    "We will now try to add more features in order to improve the performances of our predictions."
   ]
  },
  {
   "cell_type": "code",
   "execution_count": 531,
   "metadata": {},
   "outputs": [],
   "source": [
    "#users_err"
   ]
  },
  {
   "cell_type": "markdown",
   "metadata": {},
   "source": [
    "# Adding new features\n",
    "\n",
    "We will compute also similarity between users and add it to the pipeline of the recommandation."
   ]
  },
  {
   "cell_type": "code",
   "execution_count": 356,
   "metadata": {},
   "outputs": [
    {
     "data": {
      "text/plain": [
       "Index(['user_id', 'movie_id', 'rating'], dtype='object')"
      ]
     },
     "execution_count": 356,
     "metadata": {},
     "output_type": "execute_result"
    }
   ],
   "source": [
    "ratings.columns"
   ]
  },
  {
   "cell_type": "code",
   "execution_count": 357,
   "metadata": {},
   "outputs": [
    {
     "data": {
      "text/plain": [
       "Index(['user_id', 'gender', 'age', 'occupation', 'zip_code'], dtype='object')"
      ]
     },
     "execution_count": 357,
     "metadata": {},
     "output_type": "execute_result"
    }
   ],
   "source": [
    "users.columns"
   ]
  },
  {
   "cell_type": "code",
   "execution_count": 403,
   "metadata": {},
   "outputs": [],
   "source": [
    "def mergeData(users, ratings, dropAge):\n",
    "    \n",
    "    \"\"\" This function merges the three dataset on user_id.\n",
    "        @param dropAge : boolean to drop or not the age column (can be used for more analysis on user similarity).\n",
    "    \"\"\"\n",
    "    \n",
    "    data = pd.merge(ratings, users, on='user_id', how='outer')\n",
    "    \n",
    "    if(dropAge):\n",
    "        data = data.drop(['occupation', 'zip_code', 'age'], axis=1)\n",
    "        data = pd.get_dummies(data, columns=['gender'])\n",
    "    else :\n",
    "        data = data.drop(['occupation', 'zip_code'], axis=1)\n",
    "        data = pd.get_dummies(data, columns=['gender', 'age'])\n",
    "            \n",
    "    return data\n",
    "\n",
    "\n",
    "############\n",
    "\n",
    "def mergeAllData(users, ratings, movies, dropAge):\n",
    "    \n",
    "    \"\"\" This function merges the three dataset\n",
    "        @param dropAge : boolean to drop or not the age column (can be used for more analysis on user similarity).\n",
    "    \"\"\"\n",
    "    \n",
    "    data = pd.merge(ratings, users, on='user_id', how='outer')\n",
    "    \n",
    "    if(dropAge):\n",
    "        data = data.drop(['occupation', 'zip_code', 'age'], axis=1)\n",
    "        data = pd.get_dummies(data, columns=['gender'])\n",
    "    else :\n",
    "        data = data.drop(['occupation', 'zip_code'], axis=1)\n",
    "        data = pd.get_dummies(data, columns=['gender', 'age'])\n",
    "        \n",
    "    df_m = movies.drop(['title'], axis=1)\n",
    "    \n",
    "    data = pd.merge(data, df_m, on='movie_id', how='outer')\n",
    "    \n",
    "    return data\n",
    "\n",
    "######\n",
    "\n",
    "\n",
    "def plotHistogram(data) :\n",
    "    \n",
    "    \"\"\"Plots the histogram of values of numerical columns in the dataset (except for user_id and movie_id columns).\"\"\"\n",
    "    \n",
    "    for col in data.columns :\n",
    "        if(col == 'user_id' or col == 'movie_id'):\n",
    "            continue\n",
    "        plt.title('Histogram for {}'.format(col))\n",
    "        plt.hist(data[col])\n",
    "        plt.show()"
   ]
  },
  {
   "cell_type": "code",
   "execution_count": 503,
   "metadata": {},
   "outputs": [
    {
     "data": {
      "text/html": [
       "<div>\n",
       "<style scoped>\n",
       "    .dataframe tbody tr th:only-of-type {\n",
       "        vertical-align: middle;\n",
       "    }\n",
       "\n",
       "    .dataframe tbody tr th {\n",
       "        vertical-align: top;\n",
       "    }\n",
       "\n",
       "    .dataframe thead th {\n",
       "        text-align: right;\n",
       "    }\n",
       "</style>\n",
       "<table border=\"1\" class=\"dataframe\">\n",
       "  <thead>\n",
       "    <tr style=\"text-align: right;\">\n",
       "      <th></th>\n",
       "      <th>user_id</th>\n",
       "      <th>movie_id</th>\n",
       "      <th>rating</th>\n",
       "      <th>gender_F</th>\n",
       "      <th>gender_M</th>\n",
       "    </tr>\n",
       "  </thead>\n",
       "  <tbody>\n",
       "    <tr>\n",
       "      <th>0</th>\n",
       "      <td>0</td>\n",
       "      <td>1176</td>\n",
       "      <td>5</td>\n",
       "      <td>1</td>\n",
       "      <td>0</td>\n",
       "    </tr>\n",
       "    <tr>\n",
       "      <th>1</th>\n",
       "      <td>0</td>\n",
       "      <td>655</td>\n",
       "      <td>3</td>\n",
       "      <td>1</td>\n",
       "      <td>0</td>\n",
       "    </tr>\n",
       "    <tr>\n",
       "      <th>2</th>\n",
       "      <td>0</td>\n",
       "      <td>902</td>\n",
       "      <td>3</td>\n",
       "      <td>1</td>\n",
       "      <td>0</td>\n",
       "    </tr>\n",
       "    <tr>\n",
       "      <th>3</th>\n",
       "      <td>0</td>\n",
       "      <td>3339</td>\n",
       "      <td>4</td>\n",
       "      <td>1</td>\n",
       "      <td>0</td>\n",
       "    </tr>\n",
       "    <tr>\n",
       "      <th>4</th>\n",
       "      <td>0</td>\n",
       "      <td>2286</td>\n",
       "      <td>5</td>\n",
       "      <td>1</td>\n",
       "      <td>0</td>\n",
       "    </tr>\n",
       "    <tr>\n",
       "      <th>...</th>\n",
       "      <td>...</td>\n",
       "      <td>...</td>\n",
       "      <td>...</td>\n",
       "      <td>...</td>\n",
       "      <td>...</td>\n",
       "    </tr>\n",
       "    <tr>\n",
       "      <th>1000204</th>\n",
       "      <td>6039</td>\n",
       "      <td>1075</td>\n",
       "      <td>1</td>\n",
       "      <td>0</td>\n",
       "      <td>1</td>\n",
       "    </tr>\n",
       "    <tr>\n",
       "      <th>1000205</th>\n",
       "      <td>6039</td>\n",
       "      <td>1078</td>\n",
       "      <td>5</td>\n",
       "      <td>0</td>\n",
       "      <td>1</td>\n",
       "    </tr>\n",
       "    <tr>\n",
       "      <th>1000206</th>\n",
       "      <td>6039</td>\n",
       "      <td>558</td>\n",
       "      <td>5</td>\n",
       "      <td>0</td>\n",
       "      <td>1</td>\n",
       "    </tr>\n",
       "    <tr>\n",
       "      <th>1000207</th>\n",
       "      <td>6039</td>\n",
       "      <td>1080</td>\n",
       "      <td>4</td>\n",
       "      <td>0</td>\n",
       "      <td>1</td>\n",
       "    </tr>\n",
       "    <tr>\n",
       "      <th>1000208</th>\n",
       "      <td>6039</td>\n",
       "      <td>1081</td>\n",
       "      <td>4</td>\n",
       "      <td>0</td>\n",
       "      <td>1</td>\n",
       "    </tr>\n",
       "  </tbody>\n",
       "</table>\n",
       "<p>1000209 rows × 5 columns</p>\n",
       "</div>"
      ],
      "text/plain": [
       "         user_id  movie_id  rating  gender_F  gender_M\n",
       "0              0      1176       5         1         0\n",
       "1              0       655       3         1         0\n",
       "2              0       902       3         1         0\n",
       "3              0      3339       4         1         0\n",
       "4              0      2286       5         1         0\n",
       "...          ...       ...     ...       ...       ...\n",
       "1000204     6039      1075       1         0         1\n",
       "1000205     6039      1078       5         0         1\n",
       "1000206     6039       558       5         0         1\n",
       "1000207     6039      1080       4         0         1\n",
       "1000208     6039      1081       4         0         1\n",
       "\n",
       "[1000209 rows x 5 columns]"
      ]
     },
     "execution_count": 503,
     "metadata": {},
     "output_type": "execute_result"
    }
   ],
   "source": [
    "data = mergeData(users, ratings, dropAge=1)\n",
    "data"
   ]
  },
  {
   "cell_type": "code",
   "execution_count": 504,
   "metadata": {},
   "outputs": [
    {
     "data": {
      "text/html": [
       "<div>\n",
       "<style scoped>\n",
       "    .dataframe tbody tr th:only-of-type {\n",
       "        vertical-align: middle;\n",
       "    }\n",
       "\n",
       "    .dataframe tbody tr th {\n",
       "        vertical-align: top;\n",
       "    }\n",
       "\n",
       "    .dataframe thead th {\n",
       "        text-align: right;\n",
       "    }\n",
       "</style>\n",
       "<table border=\"1\" class=\"dataframe\">\n",
       "  <thead>\n",
       "    <tr style=\"text-align: right;\">\n",
       "      <th></th>\n",
       "      <th>user_id</th>\n",
       "      <th>movie_id</th>\n",
       "      <th>rating</th>\n",
       "      <th>gender_F</th>\n",
       "      <th>gender_M</th>\n",
       "      <th>year</th>\n",
       "      <th>Animation</th>\n",
       "      <th>Children's</th>\n",
       "      <th>Comedy</th>\n",
       "      <th>Adventure</th>\n",
       "      <th>...</th>\n",
       "      <th>Crime</th>\n",
       "      <th>Thriller</th>\n",
       "      <th>Horror</th>\n",
       "      <th>Sci-Fi</th>\n",
       "      <th>Documentary</th>\n",
       "      <th>War</th>\n",
       "      <th>Musical</th>\n",
       "      <th>Mystery</th>\n",
       "      <th>Film-Noir</th>\n",
       "      <th>Western</th>\n",
       "    </tr>\n",
       "  </thead>\n",
       "  <tbody>\n",
       "    <tr>\n",
       "      <th>0</th>\n",
       "      <td>0.0</td>\n",
       "      <td>1176</td>\n",
       "      <td>5.0</td>\n",
       "      <td>1.0</td>\n",
       "      <td>0.0</td>\n",
       "      <td>1975</td>\n",
       "      <td>0.0</td>\n",
       "      <td>0.0</td>\n",
       "      <td>0.0</td>\n",
       "      <td>0.0</td>\n",
       "      <td>...</td>\n",
       "      <td>0.0</td>\n",
       "      <td>0.0</td>\n",
       "      <td>0.0</td>\n",
       "      <td>0.0</td>\n",
       "      <td>0.0</td>\n",
       "      <td>0.0</td>\n",
       "      <td>0.0</td>\n",
       "      <td>0.0</td>\n",
       "      <td>0.0</td>\n",
       "      <td>0.0</td>\n",
       "    </tr>\n",
       "    <tr>\n",
       "      <th>1</th>\n",
       "      <td>1.0</td>\n",
       "      <td>1176</td>\n",
       "      <td>5.0</td>\n",
       "      <td>0.0</td>\n",
       "      <td>1.0</td>\n",
       "      <td>1975</td>\n",
       "      <td>0.0</td>\n",
       "      <td>0.0</td>\n",
       "      <td>0.0</td>\n",
       "      <td>0.0</td>\n",
       "      <td>...</td>\n",
       "      <td>0.0</td>\n",
       "      <td>0.0</td>\n",
       "      <td>0.0</td>\n",
       "      <td>0.0</td>\n",
       "      <td>0.0</td>\n",
       "      <td>0.0</td>\n",
       "      <td>0.0</td>\n",
       "      <td>0.0</td>\n",
       "      <td>0.0</td>\n",
       "      <td>0.0</td>\n",
       "    </tr>\n",
       "    <tr>\n",
       "      <th>2</th>\n",
       "      <td>11.0</td>\n",
       "      <td>1176</td>\n",
       "      <td>4.0</td>\n",
       "      <td>0.0</td>\n",
       "      <td>1.0</td>\n",
       "      <td>1975</td>\n",
       "      <td>0.0</td>\n",
       "      <td>0.0</td>\n",
       "      <td>0.0</td>\n",
       "      <td>0.0</td>\n",
       "      <td>...</td>\n",
       "      <td>0.0</td>\n",
       "      <td>0.0</td>\n",
       "      <td>0.0</td>\n",
       "      <td>0.0</td>\n",
       "      <td>0.0</td>\n",
       "      <td>0.0</td>\n",
       "      <td>0.0</td>\n",
       "      <td>0.0</td>\n",
       "      <td>0.0</td>\n",
       "      <td>0.0</td>\n",
       "    </tr>\n",
       "    <tr>\n",
       "      <th>3</th>\n",
       "      <td>14.0</td>\n",
       "      <td>1176</td>\n",
       "      <td>4.0</td>\n",
       "      <td>0.0</td>\n",
       "      <td>1.0</td>\n",
       "      <td>1975</td>\n",
       "      <td>0.0</td>\n",
       "      <td>0.0</td>\n",
       "      <td>0.0</td>\n",
       "      <td>0.0</td>\n",
       "      <td>...</td>\n",
       "      <td>0.0</td>\n",
       "      <td>0.0</td>\n",
       "      <td>0.0</td>\n",
       "      <td>0.0</td>\n",
       "      <td>0.0</td>\n",
       "      <td>0.0</td>\n",
       "      <td>0.0</td>\n",
       "      <td>0.0</td>\n",
       "      <td>0.0</td>\n",
       "      <td>0.0</td>\n",
       "    </tr>\n",
       "    <tr>\n",
       "      <th>4</th>\n",
       "      <td>16.0</td>\n",
       "      <td>1176</td>\n",
       "      <td>5.0</td>\n",
       "      <td>0.0</td>\n",
       "      <td>1.0</td>\n",
       "      <td>1975</td>\n",
       "      <td>0.0</td>\n",
       "      <td>0.0</td>\n",
       "      <td>0.0</td>\n",
       "      <td>0.0</td>\n",
       "      <td>...</td>\n",
       "      <td>0.0</td>\n",
       "      <td>0.0</td>\n",
       "      <td>0.0</td>\n",
       "      <td>0.0</td>\n",
       "      <td>0.0</td>\n",
       "      <td>0.0</td>\n",
       "      <td>0.0</td>\n",
       "      <td>0.0</td>\n",
       "      <td>0.0</td>\n",
       "      <td>0.0</td>\n",
       "    </tr>\n",
       "    <tr>\n",
       "      <th>...</th>\n",
       "      <td>...</td>\n",
       "      <td>...</td>\n",
       "      <td>...</td>\n",
       "      <td>...</td>\n",
       "      <td>...</td>\n",
       "      <td>...</td>\n",
       "      <td>...</td>\n",
       "      <td>...</td>\n",
       "      <td>...</td>\n",
       "      <td>...</td>\n",
       "      <td>...</td>\n",
       "      <td>...</td>\n",
       "      <td>...</td>\n",
       "      <td>...</td>\n",
       "      <td>...</td>\n",
       "      <td>...</td>\n",
       "      <td>...</td>\n",
       "      <td>...</td>\n",
       "      <td>...</td>\n",
       "      <td>...</td>\n",
       "      <td>...</td>\n",
       "    </tr>\n",
       "    <tr>\n",
       "      <th>1000381</th>\n",
       "      <td>NaN</td>\n",
       "      <td>3581</td>\n",
       "      <td>NaN</td>\n",
       "      <td>NaN</td>\n",
       "      <td>NaN</td>\n",
       "      <td>1986</td>\n",
       "      <td>0.0</td>\n",
       "      <td>0.0</td>\n",
       "      <td>0.0</td>\n",
       "      <td>0.0</td>\n",
       "      <td>...</td>\n",
       "      <td>0.0</td>\n",
       "      <td>0.0</td>\n",
       "      <td>1.0</td>\n",
       "      <td>0.0</td>\n",
       "      <td>0.0</td>\n",
       "      <td>0.0</td>\n",
       "      <td>0.0</td>\n",
       "      <td>0.0</td>\n",
       "      <td>0.0</td>\n",
       "      <td>0.0</td>\n",
       "    </tr>\n",
       "    <tr>\n",
       "      <th>1000382</th>\n",
       "      <td>NaN</td>\n",
       "      <td>3681</td>\n",
       "      <td>NaN</td>\n",
       "      <td>NaN</td>\n",
       "      <td>NaN</td>\n",
       "      <td>2000</td>\n",
       "      <td>0.0</td>\n",
       "      <td>0.0</td>\n",
       "      <td>0.0</td>\n",
       "      <td>0.0</td>\n",
       "      <td>...</td>\n",
       "      <td>0.0</td>\n",
       "      <td>0.0</td>\n",
       "      <td>0.0</td>\n",
       "      <td>0.0</td>\n",
       "      <td>0.0</td>\n",
       "      <td>0.0</td>\n",
       "      <td>0.0</td>\n",
       "      <td>0.0</td>\n",
       "      <td>0.0</td>\n",
       "      <td>0.0</td>\n",
       "    </tr>\n",
       "    <tr>\n",
       "      <th>1000383</th>\n",
       "      <td>NaN</td>\n",
       "      <td>3759</td>\n",
       "      <td>NaN</td>\n",
       "      <td>NaN</td>\n",
       "      <td>NaN</td>\n",
       "      <td>2000</td>\n",
       "      <td>0.0</td>\n",
       "      <td>0.0</td>\n",
       "      <td>1.0</td>\n",
       "      <td>0.0</td>\n",
       "      <td>...</td>\n",
       "      <td>0.0</td>\n",
       "      <td>0.0</td>\n",
       "      <td>0.0</td>\n",
       "      <td>0.0</td>\n",
       "      <td>0.0</td>\n",
       "      <td>0.0</td>\n",
       "      <td>0.0</td>\n",
       "      <td>0.0</td>\n",
       "      <td>0.0</td>\n",
       "      <td>0.0</td>\n",
       "    </tr>\n",
       "    <tr>\n",
       "      <th>1000384</th>\n",
       "      <td>NaN</td>\n",
       "      <td>3786</td>\n",
       "      <td>NaN</td>\n",
       "      <td>NaN</td>\n",
       "      <td>NaN</td>\n",
       "      <td>1999</td>\n",
       "      <td>0.0</td>\n",
       "      <td>0.0</td>\n",
       "      <td>0.0</td>\n",
       "      <td>0.0</td>\n",
       "      <td>...</td>\n",
       "      <td>0.0</td>\n",
       "      <td>0.0</td>\n",
       "      <td>0.0</td>\n",
       "      <td>0.0</td>\n",
       "      <td>0.0</td>\n",
       "      <td>0.0</td>\n",
       "      <td>0.0</td>\n",
       "      <td>0.0</td>\n",
       "      <td>0.0</td>\n",
       "      <td>0.0</td>\n",
       "    </tr>\n",
       "    <tr>\n",
       "      <th>1000385</th>\n",
       "      <td>NaN</td>\n",
       "      <td>3837</td>\n",
       "      <td>NaN</td>\n",
       "      <td>NaN</td>\n",
       "      <td>NaN</td>\n",
       "      <td>1999</td>\n",
       "      <td>0.0</td>\n",
       "      <td>0.0</td>\n",
       "      <td>0.0</td>\n",
       "      <td>0.0</td>\n",
       "      <td>...</td>\n",
       "      <td>0.0</td>\n",
       "      <td>0.0</td>\n",
       "      <td>0.0</td>\n",
       "      <td>0.0</td>\n",
       "      <td>0.0</td>\n",
       "      <td>0.0</td>\n",
       "      <td>0.0</td>\n",
       "      <td>0.0</td>\n",
       "      <td>0.0</td>\n",
       "      <td>0.0</td>\n",
       "    </tr>\n",
       "  </tbody>\n",
       "</table>\n",
       "<p>1000386 rows × 24 columns</p>\n",
       "</div>"
      ],
      "text/plain": [
       "         user_id  movie_id  rating  gender_F  gender_M  year  Animation  \\\n",
       "0            0.0      1176     5.0       1.0       0.0  1975        0.0   \n",
       "1            1.0      1176     5.0       0.0       1.0  1975        0.0   \n",
       "2           11.0      1176     4.0       0.0       1.0  1975        0.0   \n",
       "3           14.0      1176     4.0       0.0       1.0  1975        0.0   \n",
       "4           16.0      1176     5.0       0.0       1.0  1975        0.0   \n",
       "...          ...       ...     ...       ...       ...   ...        ...   \n",
       "1000381      NaN      3581     NaN       NaN       NaN  1986        0.0   \n",
       "1000382      NaN      3681     NaN       NaN       NaN  2000        0.0   \n",
       "1000383      NaN      3759     NaN       NaN       NaN  2000        0.0   \n",
       "1000384      NaN      3786     NaN       NaN       NaN  1999        0.0   \n",
       "1000385      NaN      3837     NaN       NaN       NaN  1999        0.0   \n",
       "\n",
       "         Children's  Comedy  Adventure  ...  Crime  Thriller  Horror  Sci-Fi  \\\n",
       "0               0.0     0.0        0.0  ...    0.0       0.0     0.0     0.0   \n",
       "1               0.0     0.0        0.0  ...    0.0       0.0     0.0     0.0   \n",
       "2               0.0     0.0        0.0  ...    0.0       0.0     0.0     0.0   \n",
       "3               0.0     0.0        0.0  ...    0.0       0.0     0.0     0.0   \n",
       "4               0.0     0.0        0.0  ...    0.0       0.0     0.0     0.0   \n",
       "...             ...     ...        ...  ...    ...       ...     ...     ...   \n",
       "1000381         0.0     0.0        0.0  ...    0.0       0.0     1.0     0.0   \n",
       "1000382         0.0     0.0        0.0  ...    0.0       0.0     0.0     0.0   \n",
       "1000383         0.0     1.0        0.0  ...    0.0       0.0     0.0     0.0   \n",
       "1000384         0.0     0.0        0.0  ...    0.0       0.0     0.0     0.0   \n",
       "1000385         0.0     0.0        0.0  ...    0.0       0.0     0.0     0.0   \n",
       "\n",
       "         Documentary  War  Musical  Mystery  Film-Noir  Western  \n",
       "0                0.0  0.0      0.0      0.0        0.0      0.0  \n",
       "1                0.0  0.0      0.0      0.0        0.0      0.0  \n",
       "2                0.0  0.0      0.0      0.0        0.0      0.0  \n",
       "3                0.0  0.0      0.0      0.0        0.0      0.0  \n",
       "4                0.0  0.0      0.0      0.0        0.0      0.0  \n",
       "...              ...  ...      ...      ...        ...      ...  \n",
       "1000381          0.0  0.0      0.0      0.0        0.0      0.0  \n",
       "1000382          0.0  0.0      0.0      0.0        0.0      0.0  \n",
       "1000383          0.0  0.0      0.0      0.0        0.0      0.0  \n",
       "1000384          0.0  0.0      0.0      0.0        0.0      0.0  \n",
       "1000385          0.0  0.0      0.0      0.0        0.0      0.0  \n",
       "\n",
       "[1000386 rows x 24 columns]"
      ]
     },
     "execution_count": 504,
     "metadata": {},
     "output_type": "execute_result"
    }
   ],
   "source": [
    "data = mergeAllData(users, ratings, movies, dropAge=1)\n",
    "data"
   ]
  },
  {
   "cell_type": "code",
   "execution_count": 505,
   "metadata": {},
   "outputs": [
    {
     "data": {
      "text/plain": [
       "user_id        177\n",
       "movie_id         0\n",
       "rating         177\n",
       "gender_F       177\n",
       "gender_M       177\n",
       "year             0\n",
       "Animation        0\n",
       "Children's       0\n",
       "Comedy           0\n",
       "Adventure        0\n",
       "Fantasy          0\n",
       "Romance          0\n",
       "Drama            0\n",
       "Action           0\n",
       "Crime            0\n",
       "Thriller         0\n",
       "Horror           0\n",
       "Sci-Fi           0\n",
       "Documentary      0\n",
       "War              0\n",
       "Musical          0\n",
       "Mystery          0\n",
       "Film-Noir        0\n",
       "Western          0\n",
       "dtype: int64"
      ]
     },
     "execution_count": 505,
     "metadata": {},
     "output_type": "execute_result"
    }
   ],
   "source": [
    "data.isna().sum()"
   ]
  },
  {
   "cell_type": "code",
   "execution_count": 506,
   "metadata": {},
   "outputs": [
    {
     "data": {
      "text/html": [
       "<div>\n",
       "<style scoped>\n",
       "    .dataframe tbody tr th:only-of-type {\n",
       "        vertical-align: middle;\n",
       "    }\n",
       "\n",
       "    .dataframe tbody tr th {\n",
       "        vertical-align: top;\n",
       "    }\n",
       "\n",
       "    .dataframe thead th {\n",
       "        text-align: right;\n",
       "    }\n",
       "</style>\n",
       "<table border=\"1\" class=\"dataframe\">\n",
       "  <thead>\n",
       "    <tr style=\"text-align: right;\">\n",
       "      <th></th>\n",
       "      <th>user_id</th>\n",
       "      <th>movie_id</th>\n",
       "      <th>rating</th>\n",
       "      <th>gender_F</th>\n",
       "      <th>gender_M</th>\n",
       "      <th>year</th>\n",
       "      <th>Animation</th>\n",
       "      <th>Children's</th>\n",
       "      <th>Comedy</th>\n",
       "      <th>Adventure</th>\n",
       "      <th>...</th>\n",
       "      <th>Crime</th>\n",
       "      <th>Thriller</th>\n",
       "      <th>Horror</th>\n",
       "      <th>Sci-Fi</th>\n",
       "      <th>Documentary</th>\n",
       "      <th>War</th>\n",
       "      <th>Musical</th>\n",
       "      <th>Mystery</th>\n",
       "      <th>Film-Noir</th>\n",
       "      <th>Western</th>\n",
       "    </tr>\n",
       "  </thead>\n",
       "  <tbody>\n",
       "    <tr>\n",
       "      <th>0</th>\n",
       "      <td>0.0</td>\n",
       "      <td>1176</td>\n",
       "      <td>5.0</td>\n",
       "      <td>1.0</td>\n",
       "      <td>0.0</td>\n",
       "      <td>1975</td>\n",
       "      <td>0.0</td>\n",
       "      <td>0.0</td>\n",
       "      <td>0.0</td>\n",
       "      <td>0.0</td>\n",
       "      <td>...</td>\n",
       "      <td>0.0</td>\n",
       "      <td>0.0</td>\n",
       "      <td>0.0</td>\n",
       "      <td>0.0</td>\n",
       "      <td>0.0</td>\n",
       "      <td>0.0</td>\n",
       "      <td>0.0</td>\n",
       "      <td>0.0</td>\n",
       "      <td>0.0</td>\n",
       "      <td>0.0</td>\n",
       "    </tr>\n",
       "    <tr>\n",
       "      <th>1</th>\n",
       "      <td>1.0</td>\n",
       "      <td>1176</td>\n",
       "      <td>5.0</td>\n",
       "      <td>0.0</td>\n",
       "      <td>1.0</td>\n",
       "      <td>1975</td>\n",
       "      <td>0.0</td>\n",
       "      <td>0.0</td>\n",
       "      <td>0.0</td>\n",
       "      <td>0.0</td>\n",
       "      <td>...</td>\n",
       "      <td>0.0</td>\n",
       "      <td>0.0</td>\n",
       "      <td>0.0</td>\n",
       "      <td>0.0</td>\n",
       "      <td>0.0</td>\n",
       "      <td>0.0</td>\n",
       "      <td>0.0</td>\n",
       "      <td>0.0</td>\n",
       "      <td>0.0</td>\n",
       "      <td>0.0</td>\n",
       "    </tr>\n",
       "    <tr>\n",
       "      <th>2</th>\n",
       "      <td>11.0</td>\n",
       "      <td>1176</td>\n",
       "      <td>4.0</td>\n",
       "      <td>0.0</td>\n",
       "      <td>1.0</td>\n",
       "      <td>1975</td>\n",
       "      <td>0.0</td>\n",
       "      <td>0.0</td>\n",
       "      <td>0.0</td>\n",
       "      <td>0.0</td>\n",
       "      <td>...</td>\n",
       "      <td>0.0</td>\n",
       "      <td>0.0</td>\n",
       "      <td>0.0</td>\n",
       "      <td>0.0</td>\n",
       "      <td>0.0</td>\n",
       "      <td>0.0</td>\n",
       "      <td>0.0</td>\n",
       "      <td>0.0</td>\n",
       "      <td>0.0</td>\n",
       "      <td>0.0</td>\n",
       "    </tr>\n",
       "    <tr>\n",
       "      <th>3</th>\n",
       "      <td>14.0</td>\n",
       "      <td>1176</td>\n",
       "      <td>4.0</td>\n",
       "      <td>0.0</td>\n",
       "      <td>1.0</td>\n",
       "      <td>1975</td>\n",
       "      <td>0.0</td>\n",
       "      <td>0.0</td>\n",
       "      <td>0.0</td>\n",
       "      <td>0.0</td>\n",
       "      <td>...</td>\n",
       "      <td>0.0</td>\n",
       "      <td>0.0</td>\n",
       "      <td>0.0</td>\n",
       "      <td>0.0</td>\n",
       "      <td>0.0</td>\n",
       "      <td>0.0</td>\n",
       "      <td>0.0</td>\n",
       "      <td>0.0</td>\n",
       "      <td>0.0</td>\n",
       "      <td>0.0</td>\n",
       "    </tr>\n",
       "    <tr>\n",
       "      <th>4</th>\n",
       "      <td>16.0</td>\n",
       "      <td>1176</td>\n",
       "      <td>5.0</td>\n",
       "      <td>0.0</td>\n",
       "      <td>1.0</td>\n",
       "      <td>1975</td>\n",
       "      <td>0.0</td>\n",
       "      <td>0.0</td>\n",
       "      <td>0.0</td>\n",
       "      <td>0.0</td>\n",
       "      <td>...</td>\n",
       "      <td>0.0</td>\n",
       "      <td>0.0</td>\n",
       "      <td>0.0</td>\n",
       "      <td>0.0</td>\n",
       "      <td>0.0</td>\n",
       "      <td>0.0</td>\n",
       "      <td>0.0</td>\n",
       "      <td>0.0</td>\n",
       "      <td>0.0</td>\n",
       "      <td>0.0</td>\n",
       "    </tr>\n",
       "    <tr>\n",
       "      <th>...</th>\n",
       "      <td>...</td>\n",
       "      <td>...</td>\n",
       "      <td>...</td>\n",
       "      <td>...</td>\n",
       "      <td>...</td>\n",
       "      <td>...</td>\n",
       "      <td>...</td>\n",
       "      <td>...</td>\n",
       "      <td>...</td>\n",
       "      <td>...</td>\n",
       "      <td>...</td>\n",
       "      <td>...</td>\n",
       "      <td>...</td>\n",
       "      <td>...</td>\n",
       "      <td>...</td>\n",
       "      <td>...</td>\n",
       "      <td>...</td>\n",
       "      <td>...</td>\n",
       "      <td>...</td>\n",
       "      <td>...</td>\n",
       "      <td>...</td>\n",
       "    </tr>\n",
       "    <tr>\n",
       "      <th>1000204</th>\n",
       "      <td>5948.0</td>\n",
       "      <td>2129</td>\n",
       "      <td>5.0</td>\n",
       "      <td>0.0</td>\n",
       "      <td>1.0</td>\n",
       "      <td>1998</td>\n",
       "      <td>0.0</td>\n",
       "      <td>0.0</td>\n",
       "      <td>0.0</td>\n",
       "      <td>0.0</td>\n",
       "      <td>...</td>\n",
       "      <td>0.0</td>\n",
       "      <td>0.0</td>\n",
       "      <td>0.0</td>\n",
       "      <td>0.0</td>\n",
       "      <td>1.0</td>\n",
       "      <td>0.0</td>\n",
       "      <td>0.0</td>\n",
       "      <td>0.0</td>\n",
       "      <td>0.0</td>\n",
       "      <td>0.0</td>\n",
       "    </tr>\n",
       "    <tr>\n",
       "      <th>1000205</th>\n",
       "      <td>5674.0</td>\n",
       "      <td>2634</td>\n",
       "      <td>3.0</td>\n",
       "      <td>0.0</td>\n",
       "      <td>1.0</td>\n",
       "      <td>1998</td>\n",
       "      <td>0.0</td>\n",
       "      <td>0.0</td>\n",
       "      <td>0.0</td>\n",
       "      <td>0.0</td>\n",
       "      <td>...</td>\n",
       "      <td>0.0</td>\n",
       "      <td>0.0</td>\n",
       "      <td>0.0</td>\n",
       "      <td>0.0</td>\n",
       "      <td>0.0</td>\n",
       "      <td>0.0</td>\n",
       "      <td>0.0</td>\n",
       "      <td>0.0</td>\n",
       "      <td>0.0</td>\n",
       "      <td>0.0</td>\n",
       "    </tr>\n",
       "    <tr>\n",
       "      <th>1000206</th>\n",
       "      <td>5779.0</td>\n",
       "      <td>2776</td>\n",
       "      <td>1.0</td>\n",
       "      <td>0.0</td>\n",
       "      <td>1.0</td>\n",
       "      <td>1999</td>\n",
       "      <td>0.0</td>\n",
       "      <td>0.0</td>\n",
       "      <td>0.0</td>\n",
       "      <td>0.0</td>\n",
       "      <td>...</td>\n",
       "      <td>0.0</td>\n",
       "      <td>0.0</td>\n",
       "      <td>0.0</td>\n",
       "      <td>0.0</td>\n",
       "      <td>0.0</td>\n",
       "      <td>0.0</td>\n",
       "      <td>0.0</td>\n",
       "      <td>0.0</td>\n",
       "      <td>0.0</td>\n",
       "      <td>0.0</td>\n",
       "    </tr>\n",
       "    <tr>\n",
       "      <th>1000207</th>\n",
       "      <td>5850.0</td>\n",
       "      <td>3538</td>\n",
       "      <td>5.0</td>\n",
       "      <td>1.0</td>\n",
       "      <td>0.0</td>\n",
       "      <td>1973</td>\n",
       "      <td>0.0</td>\n",
       "      <td>0.0</td>\n",
       "      <td>1.0</td>\n",
       "      <td>0.0</td>\n",
       "      <td>...</td>\n",
       "      <td>0.0</td>\n",
       "      <td>0.0</td>\n",
       "      <td>0.0</td>\n",
       "      <td>0.0</td>\n",
       "      <td>0.0</td>\n",
       "      <td>0.0</td>\n",
       "      <td>0.0</td>\n",
       "      <td>0.0</td>\n",
       "      <td>0.0</td>\n",
       "      <td>1.0</td>\n",
       "    </tr>\n",
       "    <tr>\n",
       "      <th>1000208</th>\n",
       "      <td>5937.0</td>\n",
       "      <td>2840</td>\n",
       "      <td>4.0</td>\n",
       "      <td>0.0</td>\n",
       "      <td>1.0</td>\n",
       "      <td>1998</td>\n",
       "      <td>0.0</td>\n",
       "      <td>0.0</td>\n",
       "      <td>0.0</td>\n",
       "      <td>0.0</td>\n",
       "      <td>...</td>\n",
       "      <td>0.0</td>\n",
       "      <td>0.0</td>\n",
       "      <td>0.0</td>\n",
       "      <td>0.0</td>\n",
       "      <td>1.0</td>\n",
       "      <td>0.0</td>\n",
       "      <td>0.0</td>\n",
       "      <td>0.0</td>\n",
       "      <td>0.0</td>\n",
       "      <td>0.0</td>\n",
       "    </tr>\n",
       "  </tbody>\n",
       "</table>\n",
       "<p>1000209 rows × 24 columns</p>\n",
       "</div>"
      ],
      "text/plain": [
       "         user_id  movie_id  rating  gender_F  gender_M  year  Animation  \\\n",
       "0            0.0      1176     5.0       1.0       0.0  1975        0.0   \n",
       "1            1.0      1176     5.0       0.0       1.0  1975        0.0   \n",
       "2           11.0      1176     4.0       0.0       1.0  1975        0.0   \n",
       "3           14.0      1176     4.0       0.0       1.0  1975        0.0   \n",
       "4           16.0      1176     5.0       0.0       1.0  1975        0.0   \n",
       "...          ...       ...     ...       ...       ...   ...        ...   \n",
       "1000204   5948.0      2129     5.0       0.0       1.0  1998        0.0   \n",
       "1000205   5674.0      2634     3.0       0.0       1.0  1998        0.0   \n",
       "1000206   5779.0      2776     1.0       0.0       1.0  1999        0.0   \n",
       "1000207   5850.0      3538     5.0       1.0       0.0  1973        0.0   \n",
       "1000208   5937.0      2840     4.0       0.0       1.0  1998        0.0   \n",
       "\n",
       "         Children's  Comedy  Adventure  ...  Crime  Thriller  Horror  Sci-Fi  \\\n",
       "0               0.0     0.0        0.0  ...    0.0       0.0     0.0     0.0   \n",
       "1               0.0     0.0        0.0  ...    0.0       0.0     0.0     0.0   \n",
       "2               0.0     0.0        0.0  ...    0.0       0.0     0.0     0.0   \n",
       "3               0.0     0.0        0.0  ...    0.0       0.0     0.0     0.0   \n",
       "4               0.0     0.0        0.0  ...    0.0       0.0     0.0     0.0   \n",
       "...             ...     ...        ...  ...    ...       ...     ...     ...   \n",
       "1000204         0.0     0.0        0.0  ...    0.0       0.0     0.0     0.0   \n",
       "1000205         0.0     0.0        0.0  ...    0.0       0.0     0.0     0.0   \n",
       "1000206         0.0     0.0        0.0  ...    0.0       0.0     0.0     0.0   \n",
       "1000207         0.0     1.0        0.0  ...    0.0       0.0     0.0     0.0   \n",
       "1000208         0.0     0.0        0.0  ...    0.0       0.0     0.0     0.0   \n",
       "\n",
       "         Documentary  War  Musical  Mystery  Film-Noir  Western  \n",
       "0                0.0  0.0      0.0      0.0        0.0      0.0  \n",
       "1                0.0  0.0      0.0      0.0        0.0      0.0  \n",
       "2                0.0  0.0      0.0      0.0        0.0      0.0  \n",
       "3                0.0  0.0      0.0      0.0        0.0      0.0  \n",
       "4                0.0  0.0      0.0      0.0        0.0      0.0  \n",
       "...              ...  ...      ...      ...        ...      ...  \n",
       "1000204          1.0  0.0      0.0      0.0        0.0      0.0  \n",
       "1000205          0.0  0.0      0.0      0.0        0.0      0.0  \n",
       "1000206          0.0  0.0      0.0      0.0        0.0      0.0  \n",
       "1000207          0.0  0.0      0.0      0.0        0.0      1.0  \n",
       "1000208          1.0  0.0      0.0      0.0        0.0      0.0  \n",
       "\n",
       "[1000209 rows x 24 columns]"
      ]
     },
     "execution_count": 506,
     "metadata": {},
     "output_type": "execute_result"
    }
   ],
   "source": [
    "# we drop nan values since we don't have that much compared to the existing data, otherwise we should have to replace them\n",
    "data  = data.dropna()\n",
    "data"
   ]
  },
  {
   "cell_type": "code",
   "execution_count": 507,
   "metadata": {},
   "outputs": [
    {
     "data": {
      "image/png": "[encoded data removed]",
      "text/plain": [
       "<Figure size 432x288 with 1 Axes>"
      ]
     },
     "metadata": {
      "needs_background": "light"
     },
     "output_type": "display_data"
    },
    {
     "data": {
      "image/png": "[encoded data removed]",
      "text/plain": [
       "<Figure size 432x288 with 1 Axes>"
      ]
     },
     "metadata": {
      "needs_background": "light"
     },
     "output_type": "display_data"
    },
    {
     "data": {
      "image/png": "[encoded data removed]",
      "text/plain": [
       "<Figure size 432x288 with 1 Axes>"
      ]
     },
     "metadata": {
      "needs_background": "light"
     },
     "output_type": "display_data"
    },
    {
     "data": {
      "image/png": "[encoded data removed]",
      "text/plain": [
       "<Figure size 432x288 with 1 Axes>"
      ]
     },
     "metadata": {
      "needs_background": "light"
     },
     "output_type": "display_data"
    },
    {
     "data": {
      "image/png": "[encoded data removed]",
      "text/plain": [
       "<Figure size 432x288 with 1 Axes>"
      ]
     },
     "metadata": {
      "needs_background": "light"
     },
     "output_type": "display_data"
    },
    {
     "data": {
      "image/png": "[encoded data removed]",
      "text/plain": [
       "<Figure size 432x288 with 1 Axes>"
      ]
     },
     "metadata": {
      "needs_background": "light"
     },
     "output_type": "display_data"
    },
    {
     "data": {
      "image/png": "[encoded data removed]",
      "text/plain": [
       "<Figure size 432x288 with 1 Axes>"
      ]
     },
     "metadata": {
      "needs_background": "light"
     },
     "output_type": "display_data"
    },
    {
     "data": {
      "image/png": "[encoded data removed]",
      "text/plain": [
       "<Figure size 432x288 with 1 Axes>"
      ]
     },
     "metadata": {
      "needs_background": "light"
     },
     "output_type": "display_data"
    },
    {
     "data": {
      "image/png": "[encoded data removed]",
      "text/plain": [
       "<Figure size 432x288 with 1 Axes>"
      ]
     },
     "metadata": {
      "needs_background": "light"
     },
     "output_type": "display_data"
    },
    {
     "data": {
      "image/png": "[encoded data removed]",
      "text/plain": [
       "<Figure size 432x288 with 1 Axes>"
      ]
     },
     "metadata": {
      "needs_background": "light"
     },
     "output_type": "display_data"
    },
    {
     "data": {
      "image/png": "[encoded data removed]",
      "text/plain": [
       "<Figure size 432x288 with 1 Axes>"
      ]
     },
     "metadata": {
      "needs_background": "light"
     },
     "output_type": "display_data"
    },
    {
     "data": {
      "image/png": "[encoded data removed]",
      "text/plain": [
       "<Figure size 432x288 with 1 Axes>"
      ]
     },
     "metadata": {
      "needs_background": "light"
     },
     "output_type": "display_data"
    },
    {
     "data": {
      "image/png": "[encoded data removed]",
      "text/plain": [
       "<Figure size 432x288 with 1 Axes>"
      ]
     },
     "metadata": {
      "needs_background": "light"
     },
     "output_type": "display_data"
    },
    {
     "data": {
      "image/png": "[encoded data removed]",
      "text/plain": [
       "<Figure size 432x288 with 1 Axes>"
      ]
     },
     "metadata": {
      "needs_background": "light"
     },
     "output_type": "display_data"
    },
    {
     "data": {
      "image/png": "[encoded data removed]",
      "text/plain": [
       "<Figure size 432x288 with 1 Axes>"
      ]
     },
     "metadata": {
      "needs_background": "light"
     },
     "output_type": "display_data"
    },
    {
     "data": {
      "image/png": "[encoded data removed]",
      "text/plain": [
       "<Figure size 432x288 with 1 Axes>"
      ]
     },
     "metadata": {
      "needs_background": "light"
     },
     "output_type": "display_data"
    },
    {
     "data": {
      "image/png": "[encoded data removed]",
      "text/plain": [
       "<Figure size 432x288 with 1 Axes>"
      ]
     },
     "metadata": {
      "needs_background": "light"
     },
     "output_type": "display_data"
    },
    {
     "data": {
      "image/png": "[encoded data removed]",
      "text/plain": [
       "<Figure size 432x288 with 1 Axes>"
      ]
     },
     "metadata": {
      "needs_background": "light"
     },
     "output_type": "display_data"
    },
    {
     "data": {
      "image/png": "[encoded data removed]",
      "text/plain": [
       "<Figure size 432x288 with 1 Axes>"
      ]
     },
     "metadata": {
      "needs_background": "light"
     },
     "output_type": "display_data"
    },
    {
     "data": {
      "image/png": "[encoded data removed]",
      "text/plain": [
       "<Figure size 432x288 with 1 Axes>"
      ]
     },
     "metadata": {
      "needs_background": "light"
     },
     "output_type": "display_data"
    },
    {
     "data": {
      "image/png": "[encoded data removed]",
      "text/plain": [
       "<Figure size 432x288 with 1 Axes>"
      ]
     },
     "metadata": {
      "needs_background": "light"
     },
     "output_type": "display_data"
    },
    {
     "data": {
      "image/png": "[encoded data removed]",
      "text/plain": [
       "<Figure size 432x288 with 1 Axes>"
      ]
     },
     "metadata": {
      "needs_background": "light"
     },
     "output_type": "display_data"
    }
   ],
   "source": [
    "plotHistogram(data)"
   ]
  },
  {
   "cell_type": "markdown",
   "metadata": {},
   "source": [
    "### Scaling the dataset\n",
    "\n",
    "We scale the data because we want to have a $similarity \\in [0,2]$ "
   ]
  },
  {
   "cell_type": "code",
   "execution_count": 508,
   "metadata": {},
   "outputs": [],
   "source": [
    "from sklearn.preprocessing import MinMaxScaler"
   ]
  },
  {
   "cell_type": "code",
   "execution_count": 509,
   "metadata": {},
   "outputs": [],
   "source": [
    "scaler = MinMaxScaler()"
   ]
  },
  {
   "cell_type": "code",
   "execution_count": 510,
   "metadata": {},
   "outputs": [
    {
     "data": {
      "text/plain": [
       "Index(['user_id', 'movie_id', 'rating', 'gender_F', 'gender_M', 'year',\n",
       "       'Animation', 'Children's', 'Comedy', 'Adventure', 'Fantasy', 'Romance',\n",
       "       'Drama', 'Action', 'Crime', 'Thriller', 'Horror', 'Sci-Fi',\n",
       "       'Documentary', 'War', 'Musical', 'Mystery', 'Film-Noir', 'Western'],\n",
       "      dtype='object')"
      ]
     },
     "execution_count": 510,
     "metadata": {},
     "output_type": "execute_result"
    }
   ],
   "source": [
    "data.columns"
   ]
  },
  {
   "cell_type": "code",
   "execution_count": 511,
   "metadata": {},
   "outputs": [
    {
     "name": "stderr",
     "output_type": "stream",
     "text": [
      "c:\\python36\\lib\\site-packages\\ipykernel_launcher.py:1: SettingWithCopyWarning: \n",
      "A value is trying to be set on a copy of a slice from a DataFrame.\n",
      "Try using .loc[row_indexer,col_indexer] = value instead\n",
      "\n",
      "See the caveats in the documentation: https://pandas.pydata.org/pandas-docs/stable/user_guide/indexing.html#returning-a-view-versus-a-copy\n",
      "  \"\"\"Entry point for launching an IPython kernel.\n",
      "c:\\python36\\lib\\site-packages\\pandas\\core\\indexing.py:1734: SettingWithCopyWarning: \n",
      "A value is trying to be set on a copy of a slice from a DataFrame.\n",
      "Try using .loc[row_indexer,col_indexer] = value instead\n",
      "\n",
      "See the caveats in the documentation: https://pandas.pydata.org/pandas-docs/stable/user_guide/indexing.html#returning-a-view-versus-a-copy\n",
      "  isetter(loc, value[:, i].tolist())\n"
     ]
    },
    {
     "data": {
      "text/html": [
       "<div>\n",
       "<style scoped>\n",
       "    .dataframe tbody tr th:only-of-type {\n",
       "        vertical-align: middle;\n",
       "    }\n",
       "\n",
       "    .dataframe tbody tr th {\n",
       "        vertical-align: top;\n",
       "    }\n",
       "\n",
       "    .dataframe thead th {\n",
       "        text-align: right;\n",
       "    }\n",
       "</style>\n",
       "<table border=\"1\" class=\"dataframe\">\n",
       "  <thead>\n",
       "    <tr style=\"text-align: right;\">\n",
       "      <th></th>\n",
       "      <th>user_id</th>\n",
       "      <th>movie_id</th>\n",
       "      <th>rating</th>\n",
       "      <th>gender_F</th>\n",
       "      <th>gender_M</th>\n",
       "      <th>year</th>\n",
       "      <th>Animation</th>\n",
       "      <th>Children's</th>\n",
       "      <th>Comedy</th>\n",
       "      <th>Adventure</th>\n",
       "      <th>...</th>\n",
       "      <th>Crime</th>\n",
       "      <th>Thriller</th>\n",
       "      <th>Horror</th>\n",
       "      <th>Sci-Fi</th>\n",
       "      <th>Documentary</th>\n",
       "      <th>War</th>\n",
       "      <th>Musical</th>\n",
       "      <th>Mystery</th>\n",
       "      <th>Film-Noir</th>\n",
       "      <th>Western</th>\n",
       "    </tr>\n",
       "  </thead>\n",
       "  <tbody>\n",
       "    <tr>\n",
       "      <th>0</th>\n",
       "      <td>0.0</td>\n",
       "      <td>1176</td>\n",
       "      <td>5.0</td>\n",
       "      <td>1.0</td>\n",
       "      <td>0.0</td>\n",
       "      <td>0.691358</td>\n",
       "      <td>0.0</td>\n",
       "      <td>0.0</td>\n",
       "      <td>0.0</td>\n",
       "      <td>0.0</td>\n",
       "      <td>...</td>\n",
       "      <td>0.0</td>\n",
       "      <td>0.0</td>\n",
       "      <td>0.0</td>\n",
       "      <td>0.0</td>\n",
       "      <td>0.0</td>\n",
       "      <td>0.0</td>\n",
       "      <td>0.0</td>\n",
       "      <td>0.0</td>\n",
       "      <td>0.0</td>\n",
       "      <td>0.0</td>\n",
       "    </tr>\n",
       "    <tr>\n",
       "      <th>1</th>\n",
       "      <td>1.0</td>\n",
       "      <td>1176</td>\n",
       "      <td>5.0</td>\n",
       "      <td>0.0</td>\n",
       "      <td>1.0</td>\n",
       "      <td>0.691358</td>\n",
       "      <td>0.0</td>\n",
       "      <td>0.0</td>\n",
       "      <td>0.0</td>\n",
       "      <td>0.0</td>\n",
       "      <td>...</td>\n",
       "      <td>0.0</td>\n",
       "      <td>0.0</td>\n",
       "      <td>0.0</td>\n",
       "      <td>0.0</td>\n",
       "      <td>0.0</td>\n",
       "      <td>0.0</td>\n",
       "      <td>0.0</td>\n",
       "      <td>0.0</td>\n",
       "      <td>0.0</td>\n",
       "      <td>0.0</td>\n",
       "    </tr>\n",
       "    <tr>\n",
       "      <th>2</th>\n",
       "      <td>11.0</td>\n",
       "      <td>1176</td>\n",
       "      <td>4.0</td>\n",
       "      <td>0.0</td>\n",
       "      <td>1.0</td>\n",
       "      <td>0.691358</td>\n",
       "      <td>0.0</td>\n",
       "      <td>0.0</td>\n",
       "      <td>0.0</td>\n",
       "      <td>0.0</td>\n",
       "      <td>...</td>\n",
       "      <td>0.0</td>\n",
       "      <td>0.0</td>\n",
       "      <td>0.0</td>\n",
       "      <td>0.0</td>\n",
       "      <td>0.0</td>\n",
       "      <td>0.0</td>\n",
       "      <td>0.0</td>\n",
       "      <td>0.0</td>\n",
       "      <td>0.0</td>\n",
       "      <td>0.0</td>\n",
       "    </tr>\n",
       "    <tr>\n",
       "      <th>3</th>\n",
       "      <td>14.0</td>\n",
       "      <td>1176</td>\n",
       "      <td>4.0</td>\n",
       "      <td>0.0</td>\n",
       "      <td>1.0</td>\n",
       "      <td>0.691358</td>\n",
       "      <td>0.0</td>\n",
       "      <td>0.0</td>\n",
       "      <td>0.0</td>\n",
       "      <td>0.0</td>\n",
       "      <td>...</td>\n",
       "      <td>0.0</td>\n",
       "      <td>0.0</td>\n",
       "      <td>0.0</td>\n",
       "      <td>0.0</td>\n",
       "      <td>0.0</td>\n",
       "      <td>0.0</td>\n",
       "      <td>0.0</td>\n",
       "      <td>0.0</td>\n",
       "      <td>0.0</td>\n",
       "      <td>0.0</td>\n",
       "    </tr>\n",
       "    <tr>\n",
       "      <th>4</th>\n",
       "      <td>16.0</td>\n",
       "      <td>1176</td>\n",
       "      <td>5.0</td>\n",
       "      <td>0.0</td>\n",
       "      <td>1.0</td>\n",
       "      <td>0.691358</td>\n",
       "      <td>0.0</td>\n",
       "      <td>0.0</td>\n",
       "      <td>0.0</td>\n",
       "      <td>0.0</td>\n",
       "      <td>...</td>\n",
       "      <td>0.0</td>\n",
       "      <td>0.0</td>\n",
       "      <td>0.0</td>\n",
       "      <td>0.0</td>\n",
       "      <td>0.0</td>\n",
       "      <td>0.0</td>\n",
       "      <td>0.0</td>\n",
       "      <td>0.0</td>\n",
       "      <td>0.0</td>\n",
       "      <td>0.0</td>\n",
       "    </tr>\n",
       "    <tr>\n",
       "      <th>...</th>\n",
       "      <td>...</td>\n",
       "      <td>...</td>\n",
       "      <td>...</td>\n",
       "      <td>...</td>\n",
       "      <td>...</td>\n",
       "      <td>...</td>\n",
       "      <td>...</td>\n",
       "      <td>...</td>\n",
       "      <td>...</td>\n",
       "      <td>...</td>\n",
       "      <td>...</td>\n",
       "      <td>...</td>\n",
       "      <td>...</td>\n",
       "      <td>...</td>\n",
       "      <td>...</td>\n",
       "      <td>...</td>\n",
       "      <td>...</td>\n",
       "      <td>...</td>\n",
       "      <td>...</td>\n",
       "      <td>...</td>\n",
       "      <td>...</td>\n",
       "    </tr>\n",
       "    <tr>\n",
       "      <th>1000204</th>\n",
       "      <td>5948.0</td>\n",
       "      <td>2129</td>\n",
       "      <td>5.0</td>\n",
       "      <td>0.0</td>\n",
       "      <td>1.0</td>\n",
       "      <td>0.975309</td>\n",
       "      <td>0.0</td>\n",
       "      <td>0.0</td>\n",
       "      <td>0.0</td>\n",
       "      <td>0.0</td>\n",
       "      <td>...</td>\n",
       "      <td>0.0</td>\n",
       "      <td>0.0</td>\n",
       "      <td>0.0</td>\n",
       "      <td>0.0</td>\n",
       "      <td>1.0</td>\n",
       "      <td>0.0</td>\n",
       "      <td>0.0</td>\n",
       "      <td>0.0</td>\n",
       "      <td>0.0</td>\n",
       "      <td>0.0</td>\n",
       "    </tr>\n",
       "    <tr>\n",
       "      <th>1000205</th>\n",
       "      <td>5674.0</td>\n",
       "      <td>2634</td>\n",
       "      <td>3.0</td>\n",
       "      <td>0.0</td>\n",
       "      <td>1.0</td>\n",
       "      <td>0.975309</td>\n",
       "      <td>0.0</td>\n",
       "      <td>0.0</td>\n",
       "      <td>0.0</td>\n",
       "      <td>0.0</td>\n",
       "      <td>...</td>\n",
       "      <td>0.0</td>\n",
       "      <td>0.0</td>\n",
       "      <td>0.0</td>\n",
       "      <td>0.0</td>\n",
       "      <td>0.0</td>\n",
       "      <td>0.0</td>\n",
       "      <td>0.0</td>\n",
       "      <td>0.0</td>\n",
       "      <td>0.0</td>\n",
       "      <td>0.0</td>\n",
       "    </tr>\n",
       "    <tr>\n",
       "      <th>1000206</th>\n",
       "      <td>5779.0</td>\n",
       "      <td>2776</td>\n",
       "      <td>1.0</td>\n",
       "      <td>0.0</td>\n",
       "      <td>1.0</td>\n",
       "      <td>0.987654</td>\n",
       "      <td>0.0</td>\n",
       "      <td>0.0</td>\n",
       "      <td>0.0</td>\n",
       "      <td>0.0</td>\n",
       "      <td>...</td>\n",
       "      <td>0.0</td>\n",
       "      <td>0.0</td>\n",
       "      <td>0.0</td>\n",
       "      <td>0.0</td>\n",
       "      <td>0.0</td>\n",
       "      <td>0.0</td>\n",
       "      <td>0.0</td>\n",
       "      <td>0.0</td>\n",
       "      <td>0.0</td>\n",
       "      <td>0.0</td>\n",
       "    </tr>\n",
       "    <tr>\n",
       "      <th>1000207</th>\n",
       "      <td>5850.0</td>\n",
       "      <td>3538</td>\n",
       "      <td>5.0</td>\n",
       "      <td>1.0</td>\n",
       "      <td>0.0</td>\n",
       "      <td>0.666667</td>\n",
       "      <td>0.0</td>\n",
       "      <td>0.0</td>\n",
       "      <td>1.0</td>\n",
       "      <td>0.0</td>\n",
       "      <td>...</td>\n",
       "      <td>0.0</td>\n",
       "      <td>0.0</td>\n",
       "      <td>0.0</td>\n",
       "      <td>0.0</td>\n",
       "      <td>0.0</td>\n",
       "      <td>0.0</td>\n",
       "      <td>0.0</td>\n",
       "      <td>0.0</td>\n",
       "      <td>0.0</td>\n",
       "      <td>1.0</td>\n",
       "    </tr>\n",
       "    <tr>\n",
       "      <th>1000208</th>\n",
       "      <td>5937.0</td>\n",
       "      <td>2840</td>\n",
       "      <td>4.0</td>\n",
       "      <td>0.0</td>\n",
       "      <td>1.0</td>\n",
       "      <td>0.975309</td>\n",
       "      <td>0.0</td>\n",
       "      <td>0.0</td>\n",
       "      <td>0.0</td>\n",
       "      <td>0.0</td>\n",
       "      <td>...</td>\n",
       "      <td>0.0</td>\n",
       "      <td>0.0</td>\n",
       "      <td>0.0</td>\n",
       "      <td>0.0</td>\n",
       "      <td>1.0</td>\n",
       "      <td>0.0</td>\n",
       "      <td>0.0</td>\n",
       "      <td>0.0</td>\n",
       "      <td>0.0</td>\n",
       "      <td>0.0</td>\n",
       "    </tr>\n",
       "  </tbody>\n",
       "</table>\n",
       "<p>1000209 rows × 24 columns</p>\n",
       "</div>"
      ],
      "text/plain": [
       "         user_id  movie_id  rating  gender_F  gender_M      year  Animation  \\\n",
       "0            0.0      1176     5.0       1.0       0.0  0.691358        0.0   \n",
       "1            1.0      1176     5.0       0.0       1.0  0.691358        0.0   \n",
       "2           11.0      1176     4.0       0.0       1.0  0.691358        0.0   \n",
       "3           14.0      1176     4.0       0.0       1.0  0.691358        0.0   \n",
       "4           16.0      1176     5.0       0.0       1.0  0.691358        0.0   \n",
       "...          ...       ...     ...       ...       ...       ...        ...   \n",
       "1000204   5948.0      2129     5.0       0.0       1.0  0.975309        0.0   \n",
       "1000205   5674.0      2634     3.0       0.0       1.0  0.975309        0.0   \n",
       "1000206   5779.0      2776     1.0       0.0       1.0  0.987654        0.0   \n",
       "1000207   5850.0      3538     5.0       1.0       0.0  0.666667        0.0   \n",
       "1000208   5937.0      2840     4.0       0.0       1.0  0.975309        0.0   \n",
       "\n",
       "         Children's  Comedy  Adventure  ...  Crime  Thriller  Horror  Sci-Fi  \\\n",
       "0               0.0     0.0        0.0  ...    0.0       0.0     0.0     0.0   \n",
       "1               0.0     0.0        0.0  ...    0.0       0.0     0.0     0.0   \n",
       "2               0.0     0.0        0.0  ...    0.0       0.0     0.0     0.0   \n",
       "3               0.0     0.0        0.0  ...    0.0       0.0     0.0     0.0   \n",
       "4               0.0     0.0        0.0  ...    0.0       0.0     0.0     0.0   \n",
       "...             ...     ...        ...  ...    ...       ...     ...     ...   \n",
       "1000204         0.0     0.0        0.0  ...    0.0       0.0     0.0     0.0   \n",
       "1000205         0.0     0.0        0.0  ...    0.0       0.0     0.0     0.0   \n",
       "1000206         0.0     0.0        0.0  ...    0.0       0.0     0.0     0.0   \n",
       "1000207         0.0     1.0        0.0  ...    0.0       0.0     0.0     0.0   \n",
       "1000208         0.0     0.0        0.0  ...    0.0       0.0     0.0     0.0   \n",
       "\n",
       "         Documentary  War  Musical  Mystery  Film-Noir  Western  \n",
       "0                0.0  0.0      0.0      0.0        0.0      0.0  \n",
       "1                0.0  0.0      0.0      0.0        0.0      0.0  \n",
       "2                0.0  0.0      0.0      0.0        0.0      0.0  \n",
       "3                0.0  0.0      0.0      0.0        0.0      0.0  \n",
       "4                0.0  0.0      0.0      0.0        0.0      0.0  \n",
       "...              ...  ...      ...      ...        ...      ...  \n",
       "1000204          1.0  0.0      0.0      0.0        0.0      0.0  \n",
       "1000205          0.0  0.0      0.0      0.0        0.0      0.0  \n",
       "1000206          0.0  0.0      0.0      0.0        0.0      0.0  \n",
       "1000207          0.0  0.0      0.0      0.0        0.0      1.0  \n",
       "1000208          1.0  0.0      0.0      0.0        0.0      0.0  \n",
       "\n",
       "[1000209 rows x 24 columns]"
      ]
     },
     "execution_count": 511,
     "metadata": {},
     "output_type": "execute_result"
    }
   ],
   "source": [
    "data[['year']] = scaler.fit_transform(data[['year']])\n",
    "data"
   ]
  },
  {
   "cell_type": "code",
   "execution_count": 512,
   "metadata": {},
   "outputs": [
    {
     "data": {
      "text/plain": [
       "Index(['user_id', 'movie_id', 'rating', 'gender_F', 'gender_M', 'year',\n",
       "       'Animation', 'Children's', 'Comedy', 'Adventure', 'Fantasy', 'Romance',\n",
       "       'Drama', 'Action', 'Crime', 'Thriller', 'Horror', 'Sci-Fi',\n",
       "       'Documentary', 'War', 'Musical', 'Mystery', 'Film-Noir', 'Western'],\n",
       "      dtype='object')"
      ]
     },
     "execution_count": 512,
     "metadata": {},
     "output_type": "execute_result"
    }
   ],
   "source": [
    "data.columns"
   ]
  },
  {
   "cell_type": "code",
   "execution_count": 513,
   "metadata": {},
   "outputs": [],
   "source": [
    "genre_cols = [\"Animation\", \"Children's\", \n",
    "       'Comedy', 'Adventure', 'Fantasy', 'Romance', 'Drama',\n",
    "       'Action', 'Crime', 'Thriller', 'Horror', 'Sci-Fi', 'Documentary', 'War',\n",
    "       'Musical', 'Mystery', 'Film-Noir', 'Western']"
   ]
  },
  {
   "cell_type": "code",
   "execution_count": 514,
   "metadata": {},
   "outputs": [
    {
     "data": {
      "text/html": [
       "<div>\n",
       "<style scoped>\n",
       "    .dataframe tbody tr th:only-of-type {\n",
       "        vertical-align: middle;\n",
       "    }\n",
       "\n",
       "    .dataframe tbody tr th {\n",
       "        vertical-align: top;\n",
       "    }\n",
       "\n",
       "    .dataframe thead th {\n",
       "        text-align: right;\n",
       "    }\n",
       "</style>\n",
       "<table border=\"1\" class=\"dataframe\">\n",
       "  <thead>\n",
       "    <tr style=\"text-align: right;\">\n",
       "      <th></th>\n",
       "      <th>user_id</th>\n",
       "      <th>movie_id</th>\n",
       "      <th>rating</th>\n",
       "      <th>gender_F</th>\n",
       "      <th>gender_M</th>\n",
       "      <th>year</th>\n",
       "      <th>Animation</th>\n",
       "      <th>Children's</th>\n",
       "      <th>Comedy</th>\n",
       "      <th>Adventure</th>\n",
       "      <th>...</th>\n",
       "      <th>Crime</th>\n",
       "      <th>Thriller</th>\n",
       "      <th>Horror</th>\n",
       "      <th>Sci-Fi</th>\n",
       "      <th>Documentary</th>\n",
       "      <th>War</th>\n",
       "      <th>Musical</th>\n",
       "      <th>Mystery</th>\n",
       "      <th>Film-Noir</th>\n",
       "      <th>Western</th>\n",
       "    </tr>\n",
       "  </thead>\n",
       "  <tbody>\n",
       "    <tr>\n",
       "      <th>0</th>\n",
       "      <td>0.0</td>\n",
       "      <td>1176</td>\n",
       "      <td>5.0</td>\n",
       "      <td>1.0</td>\n",
       "      <td>0.0</td>\n",
       "      <td>0.691358</td>\n",
       "      <td>0.0</td>\n",
       "      <td>0.0</td>\n",
       "      <td>0.0</td>\n",
       "      <td>0.0</td>\n",
       "      <td>...</td>\n",
       "      <td>0.0</td>\n",
       "      <td>0.0</td>\n",
       "      <td>0.0</td>\n",
       "      <td>0.0</td>\n",
       "      <td>0.0</td>\n",
       "      <td>0.0</td>\n",
       "      <td>0.0</td>\n",
       "      <td>0.0</td>\n",
       "      <td>0.0</td>\n",
       "      <td>0.0</td>\n",
       "    </tr>\n",
       "    <tr>\n",
       "      <th>1</th>\n",
       "      <td>1.0</td>\n",
       "      <td>1176</td>\n",
       "      <td>5.0</td>\n",
       "      <td>0.0</td>\n",
       "      <td>1.0</td>\n",
       "      <td>0.691358</td>\n",
       "      <td>0.0</td>\n",
       "      <td>0.0</td>\n",
       "      <td>0.0</td>\n",
       "      <td>0.0</td>\n",
       "      <td>...</td>\n",
       "      <td>0.0</td>\n",
       "      <td>0.0</td>\n",
       "      <td>0.0</td>\n",
       "      <td>0.0</td>\n",
       "      <td>0.0</td>\n",
       "      <td>0.0</td>\n",
       "      <td>0.0</td>\n",
       "      <td>0.0</td>\n",
       "      <td>0.0</td>\n",
       "      <td>0.0</td>\n",
       "    </tr>\n",
       "    <tr>\n",
       "      <th>2</th>\n",
       "      <td>11.0</td>\n",
       "      <td>1176</td>\n",
       "      <td>4.0</td>\n",
       "      <td>0.0</td>\n",
       "      <td>1.0</td>\n",
       "      <td>0.691358</td>\n",
       "      <td>0.0</td>\n",
       "      <td>0.0</td>\n",
       "      <td>0.0</td>\n",
       "      <td>0.0</td>\n",
       "      <td>...</td>\n",
       "      <td>0.0</td>\n",
       "      <td>0.0</td>\n",
       "      <td>0.0</td>\n",
       "      <td>0.0</td>\n",
       "      <td>0.0</td>\n",
       "      <td>0.0</td>\n",
       "      <td>0.0</td>\n",
       "      <td>0.0</td>\n",
       "      <td>0.0</td>\n",
       "      <td>0.0</td>\n",
       "    </tr>\n",
       "    <tr>\n",
       "      <th>3</th>\n",
       "      <td>14.0</td>\n",
       "      <td>1176</td>\n",
       "      <td>4.0</td>\n",
       "      <td>0.0</td>\n",
       "      <td>1.0</td>\n",
       "      <td>0.691358</td>\n",
       "      <td>0.0</td>\n",
       "      <td>0.0</td>\n",
       "      <td>0.0</td>\n",
       "      <td>0.0</td>\n",
       "      <td>...</td>\n",
       "      <td>0.0</td>\n",
       "      <td>0.0</td>\n",
       "      <td>0.0</td>\n",
       "      <td>0.0</td>\n",
       "      <td>0.0</td>\n",
       "      <td>0.0</td>\n",
       "      <td>0.0</td>\n",
       "      <td>0.0</td>\n",
       "      <td>0.0</td>\n",
       "      <td>0.0</td>\n",
       "    </tr>\n",
       "    <tr>\n",
       "      <th>4</th>\n",
       "      <td>16.0</td>\n",
       "      <td>1176</td>\n",
       "      <td>5.0</td>\n",
       "      <td>0.0</td>\n",
       "      <td>1.0</td>\n",
       "      <td>0.691358</td>\n",
       "      <td>0.0</td>\n",
       "      <td>0.0</td>\n",
       "      <td>0.0</td>\n",
       "      <td>0.0</td>\n",
       "      <td>...</td>\n",
       "      <td>0.0</td>\n",
       "      <td>0.0</td>\n",
       "      <td>0.0</td>\n",
       "      <td>0.0</td>\n",
       "      <td>0.0</td>\n",
       "      <td>0.0</td>\n",
       "      <td>0.0</td>\n",
       "      <td>0.0</td>\n",
       "      <td>0.0</td>\n",
       "      <td>0.0</td>\n",
       "    </tr>\n",
       "    <tr>\n",
       "      <th>...</th>\n",
       "      <td>...</td>\n",
       "      <td>...</td>\n",
       "      <td>...</td>\n",
       "      <td>...</td>\n",
       "      <td>...</td>\n",
       "      <td>...</td>\n",
       "      <td>...</td>\n",
       "      <td>...</td>\n",
       "      <td>...</td>\n",
       "      <td>...</td>\n",
       "      <td>...</td>\n",
       "      <td>...</td>\n",
       "      <td>...</td>\n",
       "      <td>...</td>\n",
       "      <td>...</td>\n",
       "      <td>...</td>\n",
       "      <td>...</td>\n",
       "      <td>...</td>\n",
       "      <td>...</td>\n",
       "      <td>...</td>\n",
       "      <td>...</td>\n",
       "    </tr>\n",
       "    <tr>\n",
       "      <th>995</th>\n",
       "      <td>3591.0</td>\n",
       "      <td>1176</td>\n",
       "      <td>5.0</td>\n",
       "      <td>1.0</td>\n",
       "      <td>0.0</td>\n",
       "      <td>0.691358</td>\n",
       "      <td>0.0</td>\n",
       "      <td>0.0</td>\n",
       "      <td>0.0</td>\n",
       "      <td>0.0</td>\n",
       "      <td>...</td>\n",
       "      <td>0.0</td>\n",
       "      <td>0.0</td>\n",
       "      <td>0.0</td>\n",
       "      <td>0.0</td>\n",
       "      <td>0.0</td>\n",
       "      <td>0.0</td>\n",
       "      <td>0.0</td>\n",
       "      <td>0.0</td>\n",
       "      <td>0.0</td>\n",
       "      <td>0.0</td>\n",
       "    </tr>\n",
       "    <tr>\n",
       "      <th>996</th>\n",
       "      <td>3593.0</td>\n",
       "      <td>1176</td>\n",
       "      <td>4.0</td>\n",
       "      <td>0.0</td>\n",
       "      <td>1.0</td>\n",
       "      <td>0.691358</td>\n",
       "      <td>0.0</td>\n",
       "      <td>0.0</td>\n",
       "      <td>0.0</td>\n",
       "      <td>0.0</td>\n",
       "      <td>...</td>\n",
       "      <td>0.0</td>\n",
       "      <td>0.0</td>\n",
       "      <td>0.0</td>\n",
       "      <td>0.0</td>\n",
       "      <td>0.0</td>\n",
       "      <td>0.0</td>\n",
       "      <td>0.0</td>\n",
       "      <td>0.0</td>\n",
       "      <td>0.0</td>\n",
       "      <td>0.0</td>\n",
       "    </tr>\n",
       "    <tr>\n",
       "      <th>997</th>\n",
       "      <td>3595.0</td>\n",
       "      <td>1176</td>\n",
       "      <td>5.0</td>\n",
       "      <td>1.0</td>\n",
       "      <td>0.0</td>\n",
       "      <td>0.691358</td>\n",
       "      <td>0.0</td>\n",
       "      <td>0.0</td>\n",
       "      <td>0.0</td>\n",
       "      <td>0.0</td>\n",
       "      <td>...</td>\n",
       "      <td>0.0</td>\n",
       "      <td>0.0</td>\n",
       "      <td>0.0</td>\n",
       "      <td>0.0</td>\n",
       "      <td>0.0</td>\n",
       "      <td>0.0</td>\n",
       "      <td>0.0</td>\n",
       "      <td>0.0</td>\n",
       "      <td>0.0</td>\n",
       "      <td>0.0</td>\n",
       "    </tr>\n",
       "    <tr>\n",
       "      <th>998</th>\n",
       "      <td>3599.0</td>\n",
       "      <td>1176</td>\n",
       "      <td>5.0</td>\n",
       "      <td>0.0</td>\n",
       "      <td>1.0</td>\n",
       "      <td>0.691358</td>\n",
       "      <td>0.0</td>\n",
       "      <td>0.0</td>\n",
       "      <td>0.0</td>\n",
       "      <td>0.0</td>\n",
       "      <td>...</td>\n",
       "      <td>0.0</td>\n",
       "      <td>0.0</td>\n",
       "      <td>0.0</td>\n",
       "      <td>0.0</td>\n",
       "      <td>0.0</td>\n",
       "      <td>0.0</td>\n",
       "      <td>0.0</td>\n",
       "      <td>0.0</td>\n",
       "      <td>0.0</td>\n",
       "      <td>0.0</td>\n",
       "    </tr>\n",
       "    <tr>\n",
       "      <th>999</th>\n",
       "      <td>3600.0</td>\n",
       "      <td>1176</td>\n",
       "      <td>4.0</td>\n",
       "      <td>1.0</td>\n",
       "      <td>0.0</td>\n",
       "      <td>0.691358</td>\n",
       "      <td>0.0</td>\n",
       "      <td>0.0</td>\n",
       "      <td>0.0</td>\n",
       "      <td>0.0</td>\n",
       "      <td>...</td>\n",
       "      <td>0.0</td>\n",
       "      <td>0.0</td>\n",
       "      <td>0.0</td>\n",
       "      <td>0.0</td>\n",
       "      <td>0.0</td>\n",
       "      <td>0.0</td>\n",
       "      <td>0.0</td>\n",
       "      <td>0.0</td>\n",
       "      <td>0.0</td>\n",
       "      <td>0.0</td>\n",
       "    </tr>\n",
       "  </tbody>\n",
       "</table>\n",
       "<p>1000 rows × 24 columns</p>\n",
       "</div>"
      ],
      "text/plain": [
       "     user_id  movie_id  rating  gender_F  gender_M      year  Animation  \\\n",
       "0        0.0      1176     5.0       1.0       0.0  0.691358        0.0   \n",
       "1        1.0      1176     5.0       0.0       1.0  0.691358        0.0   \n",
       "2       11.0      1176     4.0       0.0       1.0  0.691358        0.0   \n",
       "3       14.0      1176     4.0       0.0       1.0  0.691358        0.0   \n",
       "4       16.0      1176     5.0       0.0       1.0  0.691358        0.0   \n",
       "..       ...       ...     ...       ...       ...       ...        ...   \n",
       "995   3591.0      1176     5.0       1.0       0.0  0.691358        0.0   \n",
       "996   3593.0      1176     4.0       0.0       1.0  0.691358        0.0   \n",
       "997   3595.0      1176     5.0       1.0       0.0  0.691358        0.0   \n",
       "998   3599.0      1176     5.0       0.0       1.0  0.691358        0.0   \n",
       "999   3600.0      1176     4.0       1.0       0.0  0.691358        0.0   \n",
       "\n",
       "     Children's  Comedy  Adventure  ...  Crime  Thriller  Horror  Sci-Fi  \\\n",
       "0           0.0     0.0        0.0  ...    0.0       0.0     0.0     0.0   \n",
       "1           0.0     0.0        0.0  ...    0.0       0.0     0.0     0.0   \n",
       "2           0.0     0.0        0.0  ...    0.0       0.0     0.0     0.0   \n",
       "3           0.0     0.0        0.0  ...    0.0       0.0     0.0     0.0   \n",
       "4           0.0     0.0        0.0  ...    0.0       0.0     0.0     0.0   \n",
       "..          ...     ...        ...  ...    ...       ...     ...     ...   \n",
       "995         0.0     0.0        0.0  ...    0.0       0.0     0.0     0.0   \n",
       "996         0.0     0.0        0.0  ...    0.0       0.0     0.0     0.0   \n",
       "997         0.0     0.0        0.0  ...    0.0       0.0     0.0     0.0   \n",
       "998         0.0     0.0        0.0  ...    0.0       0.0     0.0     0.0   \n",
       "999         0.0     0.0        0.0  ...    0.0       0.0     0.0     0.0   \n",
       "\n",
       "     Documentary  War  Musical  Mystery  Film-Noir  Western  \n",
       "0            0.0  0.0      0.0      0.0        0.0      0.0  \n",
       "1            0.0  0.0      0.0      0.0        0.0      0.0  \n",
       "2            0.0  0.0      0.0      0.0        0.0      0.0  \n",
       "3            0.0  0.0      0.0      0.0        0.0      0.0  \n",
       "4            0.0  0.0      0.0      0.0        0.0      0.0  \n",
       "..           ...  ...      ...      ...        ...      ...  \n",
       "995          0.0  0.0      0.0      0.0        0.0      0.0  \n",
       "996          0.0  0.0      0.0      0.0        0.0      0.0  \n",
       "997          0.0  0.0      0.0      0.0        0.0      0.0  \n",
       "998          0.0  0.0      0.0      0.0        0.0      0.0  \n",
       "999          0.0  0.0      0.0      0.0        0.0      0.0  \n",
       "\n",
       "[1000 rows x 24 columns]"
      ]
     },
     "execution_count": 514,
     "metadata": {},
     "output_type": "execute_result"
    }
   ],
   "source": [
    "selectedCols = ['gender_F', 'gender_M', 'year'] #+ genre_cols\n",
    "max_rows = 1000 # we concentrate only on first 200 users to avoid numpy memory issues.\n",
    "\n",
    "data_minified = data[:max_rows]\n",
    "data_minified"
   ]
  },
  {
   "cell_type": "code",
   "execution_count": 515,
   "metadata": {},
   "outputs": [
    {
     "data": {
      "text/plain": [
       "['gender_F', 'gender_M', 'year']"
      ]
     },
     "execution_count": 515,
     "metadata": {},
     "output_type": "execute_result"
    }
   ],
   "source": [
    "selectedCols"
   ]
  },
  {
   "cell_type": "code",
   "execution_count": 516,
   "metadata": {},
   "outputs": [
    {
     "data": {
      "text/plain": [
       "array([[1.47797592, 0.47797592, 0.47797592, ..., 1.47797592, 0.47797592,\n",
       "        1.47797592],\n",
       "       [0.47797592, 1.47797592, 1.47797592, ..., 0.47797592, 1.47797592,\n",
       "        0.47797592],\n",
       "       [0.47797592, 1.47797592, 1.47797592, ..., 0.47797592, 1.47797592,\n",
       "        0.47797592],\n",
       "       ...,\n",
       "       [1.47797592, 0.47797592, 0.47797592, ..., 1.47797592, 0.47797592,\n",
       "        1.47797592],\n",
       "       [0.47797592, 1.47797592, 1.47797592, ..., 0.47797592, 1.47797592,\n",
       "        0.47797592],\n",
       "       [1.47797592, 0.47797592, 0.47797592, ..., 1.47797592, 0.47797592,\n",
       "        1.47797592]])"
      ]
     },
     "execution_count": 516,
     "metadata": {},
     "output_type": "execute_result"
    }
   ],
   "source": [
    "similarity_user = computeAllSimilarities(data_minified, selectedCols)\n",
    "similarity_user"
   ]
  },
  {
   "cell_type": "code",
   "execution_count": 517,
   "metadata": {},
   "outputs": [],
   "source": [
    "similarity_with_user1 = similarity_user[0]"
   ]
  },
  {
   "cell_type": "code",
   "execution_count": 518,
   "metadata": {},
   "outputs": [
    {
     "data": {
      "text/plain": [
       "(array([745.,   0.,   0.,   0.,   0.,   0.,   0.,   0.,   0., 255.]),\n",
       " array([0.47797592, 0.57797592, 0.67797592, 0.77797592, 0.87797592,\n",
       "        0.97797592, 1.07797592, 1.17797592, 1.27797592, 1.37797592,\n",
       "        1.47797592]),\n",
       " <BarContainer object of 10 artists>)"
      ]
     },
     "execution_count": 518,
     "metadata": {},
     "output_type": "execute_result"
    },
    {
     "data": {
      "image/png": "[encoded data removed]",
      "text/plain": [
       "<Figure size 432x288 with 1 Axes>"
      ]
     },
     "metadata": {
      "needs_background": "light"
     },
     "output_type": "display_data"
    }
   ],
   "source": [
    "plt.hist(similarity_with_user1)"
   ]
  },
  {
   "cell_type": "markdown",
   "metadata": {},
   "source": [
    "### Comments :\n",
    "\n",
    "More than 20% of users are similar to user 1."
   ]
  },
  {
   "cell_type": "markdown",
   "metadata": {
    "id": "BOeXGuBqt-j1"
   },
   "source": [
    "# Conclusion:\n",
    " \n",
    "We have implemented a version of recommandation based on similarity between users. After that we thought of adding also user similarity in the pipeline in orther to have more accuracy. There's still some work to do in this last part."
   ]
  }
 ],
 "metadata": {
  "colab": {
   "collapsed_sections": [],
   "name": "project_internship_mle.ipynb",
   "provenance": [],
   "toc_visible": true
  },
  "kernelspec": {
   "display_name": "Python 3",
   "language": "python",
   "name": "python3"
  },
  "language_info": {
   "codemirror_mode": {
    "name": "ipython",
    "version": 3
   },
   "file_extension": ".py",
   "mimetype": "text/x-python",
   "name": "python",
   "nbconvert_exporter": "python",
   "pygments_lexer": "ipython3",
   "version": "3.6.8"
  }
 },
 "nbformat": 4,
 "nbformat_minor": 4
}
